{
 "cells": [
  {
   "cell_type": "markdown",
   "metadata": {},
   "source": [
    "## ALGO TRADE ALGORTHMS\n",
    "Working with Interactive Brokers API\n",
    "\n",
    "#### Sources:\n",
    "- https://stackoverflow.com/questions/65355985/basic-interactive-brokers-api-with-python-example-not-working\n",
    "\n",
    "- https://blog.devgenius.io/interactive-brokers-api-for-python-d53eb80cc2b9 (Article)\n",
    "- https://github.com/jayqbe/python_trading_projects/blob/main/IBHistoricalData.py (Code)\n",
    "\n"
   ]
  },
  {
   "cell_type": "code",
   "execution_count": 1,
   "metadata": {},
   "outputs": [],
   "source": [
    "from ibapi.client import EClient\n",
    "from ibapi.wrapper import EWrapper\n",
    "from ibapi.contract import Contract\n",
    "from ibapi.ticktype import TickTypeEnum\n",
    "\n",
    "contract = Contract()\n",
    "contract.symbol = \"AAPL\" #REFERRING TO THE AAPL TICKER STOCK\n",
    "contract.secType = \"OPT\" # SELECTION OPTIONS\n",
    "contract.exchange = \"SMART\"\n",
    "contract.currency = \"USD\""
   ]
  }
 ],
 "metadata": {
  "kernelspec": {
   "display_name": "Python 3.9.13 64-bit",
   "language": "python",
   "name": "python3"
  },
  "language_info": {
   "codemirror_mode": {
    "name": "ipython",
    "version": 3
   },
   "file_extension": ".py",
   "mimetype": "text/x-python",
   "name": "python",
   "nbconvert_exporter": "python",
   "pygments_lexer": "ipython3",
   "version": "3.9.13"
  },
  "orig_nbformat": 4,
  "vscode": {
   "interpreter": {
    "hash": "b0fa6594d8f4cbf19f97940f81e996739fb7646882a419484c72d19e05852a7e"
   }
  }
 },
 "nbformat": 4,
 "nbformat_minor": 2
}
