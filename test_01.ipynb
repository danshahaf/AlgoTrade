{
 "cells": [
  {
   "cell_type": "markdown",
   "metadata": {},
   "source": [
    "## Documentation\n",
    "\n",
    "- API Guide can be found in this link https://ib-insync.readthedocs.io/api.html\n",
    "- Options Example (SPX) with ib_insync https://nbviewer.org/github/erdewit/ib_insync/blob/master/notebooks/option_chain.ipynb\n"
   ]
  },
  {
   "cell_type": "code",
   "execution_count": 4,
   "metadata": {},
   "outputs": [
    {
     "name": "stdout",
     "output_type": "stream",
     "text": [
      " >>> DEFINING STOCK \n",
      " >>> GETTING GREEKS AND OPTIONS INFO\n"
     ]
    },
    {
     "name": "stderr",
     "output_type": "stream",
     "text": [
      "Error 200, reqId 8: No security definition has been found for the request, contract: Option(symbol='AAPL', lastTradeDateOrContractMonth='20220819', strike=41.25, right='P', exchange='SMART')\n",
      "Error 200, reqId 9: No security definition has been found for the request, contract: Option(symbol='AAPL', lastTradeDateOrContractMonth='20220819', strike=42.5, right='P', exchange='SMART')\n"
     ]
    },
    {
     "name": "stdout",
     "output_type": "stream",
     "text": [
      " >>> NOGOOD CONTRACT\n",
      " >>> NOGOOD CONTRACT\n"
     ]
    },
    {
     "name": "stderr",
     "output_type": "stream",
     "text": [
      "Error 200, reqId 10: No security definition has been found for the request, contract: Option(symbol='AAPL', lastTradeDateOrContractMonth='20220819', strike=43.75, right='P', exchange='SMART')\n"
     ]
    },
    {
     "name": "stdout",
     "output_type": "stream",
     "text": [
      " >>> NOGOOD CONTRACT\n"
     ]
    },
    {
     "name": "stderr",
     "output_type": "stream",
     "text": [
      "Error 200, reqId 12: No security definition has been found for the request, contract: Option(symbol='AAPL', lastTradeDateOrContractMonth='20220819', strike=46.25, right='P', exchange='SMART')\n",
      "Error 200, reqId 13: No security definition has been found for the request, contract: Option(symbol='AAPL', lastTradeDateOrContractMonth='20220819', strike=47.5, right='P', exchange='SMART')\n",
      "Error 200, reqId 14: No security definition has been found for the request, contract: Option(symbol='AAPL', lastTradeDateOrContractMonth='20220819', strike=48.75, right='P', exchange='SMART')\n"
     ]
    },
    {
     "name": "stdout",
     "output_type": "stream",
     "text": [
      " >>> NOGOOD CONTRACT\n",
      " >>> NOGOOD CONTRACT\n",
      " >>> NOGOOD CONTRACT\n"
     ]
    },
    {
     "name": "stderr",
     "output_type": "stream",
     "text": [
      "Error 200, reqId 16: No security definition has been found for the request, contract: Option(symbol='AAPL', lastTradeDateOrContractMonth='20220819', strike=52.5, right='P', exchange='SMART')\n"
     ]
    },
    {
     "name": "stdout",
     "output_type": "stream",
     "text": [
      " >>> NOGOOD CONTRACT\n"
     ]
    },
    {
     "name": "stderr",
     "output_type": "stream",
     "text": [
      "Error 200, reqId 18: No security definition has been found for the request, contract: Option(symbol='AAPL', lastTradeDateOrContractMonth='20220819', strike=57.5, right='P', exchange='SMART')\n"
     ]
    },
    {
     "name": "stdout",
     "output_type": "stream",
     "text": [
      " >>> NOGOOD CONTRACT\n"
     ]
    },
    {
     "name": "stderr",
     "output_type": "stream",
     "text": [
      "Error 200, reqId 20: No security definition has been found for the request, contract: Option(symbol='AAPL', lastTradeDateOrContractMonth='20220819', strike=62.5, right='P', exchange='SMART')\n"
     ]
    },
    {
     "name": "stdout",
     "output_type": "stream",
     "text": [
      " >>> NOGOOD CONTRACT\n"
     ]
    },
    {
     "name": "stderr",
     "output_type": "stream",
     "text": [
      "Error 200, reqId 22: No security definition has been found for the request, contract: Option(symbol='AAPL', lastTradeDateOrContractMonth='20220819', strike=67.5, right='P', exchange='SMART')\n"
     ]
    },
    {
     "name": "stdout",
     "output_type": "stream",
     "text": [
      " >>> NOGOOD CONTRACT\n"
     ]
    },
    {
     "name": "stderr",
     "output_type": "stream",
     "text": [
      "Error 200, reqId 24: No security definition has been found for the request, contract: Option(symbol='AAPL', lastTradeDateOrContractMonth='20220819', strike=72.5, right='P', exchange='SMART')\n"
     ]
    },
    {
     "name": "stdout",
     "output_type": "stream",
     "text": [
      " >>> NOGOOD CONTRACT\n"
     ]
    },
    {
     "name": "stderr",
     "output_type": "stream",
     "text": [
      "Error 200, reqId 26: No security definition has been found for the request, contract: Option(symbol='AAPL', lastTradeDateOrContractMonth='20220819', strike=76.25, right='P', exchange='SMART')\n",
      "Error 200, reqId 27: No security definition has been found for the request, contract: Option(symbol='AAPL', lastTradeDateOrContractMonth='20220819', strike=77.5, right='P', exchange='SMART')\n"
     ]
    },
    {
     "name": "stdout",
     "output_type": "stream",
     "text": [
      " >>> NOGOOD CONTRACT\n",
      " >>> NOGOOD CONTRACT\n"
     ]
    },
    {
     "name": "stderr",
     "output_type": "stream",
     "text": [
      "Error 200, reqId 28: No security definition has been found for the request, contract: Option(symbol='AAPL', lastTradeDateOrContractMonth='20220819', strike=78.75, right='P', exchange='SMART')\n"
     ]
    },
    {
     "name": "stdout",
     "output_type": "stream",
     "text": [
      " >>> NOGOOD CONTRACT\n"
     ]
    },
    {
     "name": "stderr",
     "output_type": "stream",
     "text": [
      "Error 200, reqId 30: No security definition has been found for the request, contract: Option(symbol='AAPL', lastTradeDateOrContractMonth='20220819', strike=81.25, right='P', exchange='SMART')\n",
      "Error 200, reqId 31: No security definition has been found for the request, contract: Option(symbol='AAPL', lastTradeDateOrContractMonth='20220819', strike=82.5, right='P', exchange='SMART')\n",
      "Error 200, reqId 32: No security definition has been found for the request, contract: Option(symbol='AAPL', lastTradeDateOrContractMonth='20220819', strike=83.75, right='P', exchange='SMART')\n"
     ]
    },
    {
     "name": "stdout",
     "output_type": "stream",
     "text": [
      " >>> NOGOOD CONTRACT\n",
      " >>> NOGOOD CONTRACT\n",
      " >>> NOGOOD CONTRACT\n"
     ]
    },
    {
     "name": "stderr",
     "output_type": "stream",
     "text": [
      "Error 200, reqId 34: No security definition has been found for the request, contract: Option(symbol='AAPL', lastTradeDateOrContractMonth='20220819', strike=86.25, right='P', exchange='SMART')\n",
      "Error 200, reqId 35: No security definition has been found for the request, contract: Option(symbol='AAPL', lastTradeDateOrContractMonth='20220819', strike=87.5, right='P', exchange='SMART')\n"
     ]
    },
    {
     "name": "stdout",
     "output_type": "stream",
     "text": [
      " >>> NOGOOD CONTRACT\n",
      " >>> NOGOOD CONTRACT\n"
     ]
    },
    {
     "name": "stderr",
     "output_type": "stream",
     "text": [
      "Error 200, reqId 37: No security definition has been found for the request, contract: Option(symbol='AAPL', lastTradeDateOrContractMonth='20220819', strike=92.5, right='P', exchange='SMART')\n"
     ]
    },
    {
     "name": "stdout",
     "output_type": "stream",
     "text": [
      " >>> NOGOOD CONTRACT\n"
     ]
    },
    {
     "name": "stderr",
     "output_type": "stream",
     "text": [
      "Error 200, reqId 39: No security definition has been found for the request, contract: Option(symbol='AAPL', lastTradeDateOrContractMonth='20220819', strike=97.5, right='P', exchange='SMART')\n"
     ]
    },
    {
     "name": "stdout",
     "output_type": "stream",
     "text": [
      " >>> NOGOOD CONTRACT\n"
     ]
    },
    {
     "name": "stderr",
     "output_type": "stream",
     "text": [
      "Error 200, reqId 41: No security definition has been found for the request, contract: Option(symbol='AAPL', lastTradeDateOrContractMonth='20220819', strike=102.5, right='P', exchange='SMART')\n"
     ]
    },
    {
     "name": "stdout",
     "output_type": "stream",
     "text": [
      " >>> NOGOOD CONTRACT\n"
     ]
    },
    {
     "name": "stderr",
     "output_type": "stream",
     "text": [
      "Error 200, reqId 43: No security definition has been found for the request, contract: Option(symbol='AAPL', lastTradeDateOrContractMonth='20220819', strike=107.5, right='P', exchange='SMART')\n"
     ]
    },
    {
     "name": "stdout",
     "output_type": "stream",
     "text": [
      " >>> NOGOOD CONTRACT\n"
     ]
    },
    {
     "name": "stderr",
     "output_type": "stream",
     "text": [
      "Error 200, reqId 45: No security definition has been found for the request, contract: Option(symbol='AAPL', lastTradeDateOrContractMonth='20220819', strike=112.5, right='P', exchange='SMART')\n"
     ]
    },
    {
     "name": "stdout",
     "output_type": "stream",
     "text": [
      " >>> NOGOOD CONTRACT\n"
     ]
    },
    {
     "name": "stderr",
     "output_type": "stream",
     "text": [
      "Error 200, reqId 47: No security definition has been found for the request, contract: Option(symbol='AAPL', lastTradeDateOrContractMonth='20220819', strike=117.0, right='P', exchange='SMART')\n",
      "Error 200, reqId 48: No security definition has been found for the request, contract: Option(symbol='AAPL', lastTradeDateOrContractMonth='20220819', strike=117.5, right='P', exchange='SMART')\n",
      "Error 200, reqId 49: No security definition has been found for the request, contract: Option(symbol='AAPL', lastTradeDateOrContractMonth='20220819', strike=118.0, right='P', exchange='SMART')\n",
      "Error 200, reqId 50: No security definition has been found for the request, contract: Option(symbol='AAPL', lastTradeDateOrContractMonth='20220819', strike=119.0, right='P', exchange='SMART')\n"
     ]
    },
    {
     "name": "stdout",
     "output_type": "stream",
     "text": [
      " >>> NOGOOD CONTRACT\n",
      " >>> NOGOOD CONTRACT\n",
      " >>> NOGOOD CONTRACT\n",
      " >>> NOGOOD CONTRACT\n"
     ]
    },
    {
     "name": "stderr",
     "output_type": "stream",
     "text": [
      "Error 200, reqId 52: No security definition has been found for the request, contract: Option(symbol='AAPL', lastTradeDateOrContractMonth='20220819', strike=121.0, right='P', exchange='SMART')\n",
      "Error 200, reqId 53: No security definition has been found for the request, contract: Option(symbol='AAPL', lastTradeDateOrContractMonth='20220819', strike=122.0, right='P', exchange='SMART')\n",
      "Error 200, reqId 54: No security definition has been found for the request, contract: Option(symbol='AAPL', lastTradeDateOrContractMonth='20220819', strike=122.5, right='P', exchange='SMART')\n",
      "Error 200, reqId 55: No security definition has been found for the request, contract: Option(symbol='AAPL', lastTradeDateOrContractMonth='20220819', strike=123.0, right='P', exchange='SMART')\n"
     ]
    },
    {
     "name": "stdout",
     "output_type": "stream",
     "text": [
      " >>> NOGOOD CONTRACT\n",
      " >>> NOGOOD CONTRACT\n",
      " >>> NOGOOD CONTRACT\n",
      " >>> NOGOOD CONTRACT\n"
     ]
    },
    {
     "name": "stderr",
     "output_type": "stream",
     "text": [
      "Error 200, reqId 56: No security definition has been found for the request, contract: Option(symbol='AAPL', lastTradeDateOrContractMonth='20220819', strike=124.0, right='P', exchange='SMART')\n"
     ]
    },
    {
     "name": "stdout",
     "output_type": "stream",
     "text": [
      " >>> NOGOOD CONTRACT\n"
     ]
    },
    {
     "name": "stderr",
     "output_type": "stream",
     "text": [
      "Error 200, reqId 58: No security definition has been found for the request, contract: Option(symbol='AAPL', lastTradeDateOrContractMonth='20220819', strike=126.0, right='P', exchange='SMART')\n",
      "Error 200, reqId 59: No security definition has been found for the request, contract: Option(symbol='AAPL', lastTradeDateOrContractMonth='20220819', strike=127.0, right='P', exchange='SMART')\n",
      "Error 200, reqId 60: No security definition has been found for the request, contract: Option(symbol='AAPL', lastTradeDateOrContractMonth='20220819', strike=128.0, right='P', exchange='SMART')\n"
     ]
    },
    {
     "name": "stdout",
     "output_type": "stream",
     "text": [
      " >>> NOGOOD CONTRACT\n",
      " >>> NOGOOD CONTRACT\n",
      " >>> NOGOOD CONTRACT\n"
     ]
    },
    {
     "name": "stderr",
     "output_type": "stream",
     "text": [
      "Error 200, reqId 61: No security definition has been found for the request, contract: Option(symbol='AAPL', lastTradeDateOrContractMonth='20220819', strike=129.0, right='P', exchange='SMART')\n"
     ]
    },
    {
     "name": "stdout",
     "output_type": "stream",
     "text": [
      " >>> NOGOOD CONTRACT\n"
     ]
    },
    {
     "name": "stderr",
     "output_type": "stream",
     "text": [
      "Error 200, reqId 63: No security definition has been found for the request, contract: Option(symbol='AAPL', lastTradeDateOrContractMonth='20220819', strike=131.0, right='P', exchange='SMART')\n",
      "Error 200, reqId 64: No security definition has been found for the request, contract: Option(symbol='AAPL', lastTradeDateOrContractMonth='20220819', strike=132.0, right='P', exchange='SMART')\n",
      "Error 200, reqId 65: No security definition has been found for the request, contract: Option(symbol='AAPL', lastTradeDateOrContractMonth='20220819', strike=133.0, right='P', exchange='SMART')\n"
     ]
    },
    {
     "name": "stdout",
     "output_type": "stream",
     "text": [
      " >>> NOGOOD CONTRACT\n",
      " >>> NOGOOD CONTRACT\n",
      " >>> NOGOOD CONTRACT\n"
     ]
    },
    {
     "name": "stderr",
     "output_type": "stream",
     "text": [
      "Error 200, reqId 66: No security definition has been found for the request, contract: Option(symbol='AAPL', lastTradeDateOrContractMonth='20220819', strike=134.0, right='P', exchange='SMART')\n"
     ]
    },
    {
     "name": "stdout",
     "output_type": "stream",
     "text": [
      " >>> NOGOOD CONTRACT\n"
     ]
    },
    {
     "name": "stderr",
     "output_type": "stream",
     "text": [
      "Error 200, reqId 68: No security definition has been found for the request, contract: Option(symbol='AAPL', lastTradeDateOrContractMonth='20220819', strike=136.0, right='P', exchange='SMART')\n",
      "Error 200, reqId 69: No security definition has been found for the request, contract: Option(symbol='AAPL', lastTradeDateOrContractMonth='20220819', strike=137.0, right='P', exchange='SMART')\n",
      "Error 200, reqId 70: No security definition has been found for the request, contract: Option(symbol='AAPL', lastTradeDateOrContractMonth='20220819', strike=138.0, right='P', exchange='SMART')\n",
      "Error 200, reqId 71: No security definition has been found for the request, contract: Option(symbol='AAPL', lastTradeDateOrContractMonth='20220819', strike=139.0, right='P', exchange='SMART')\n"
     ]
    },
    {
     "name": "stdout",
     "output_type": "stream",
     "text": [
      " >>> NOGOOD CONTRACT\n",
      " >>> NOGOOD CONTRACT\n",
      " >>> NOGOOD CONTRACT\n",
      " >>> NOGOOD CONTRACT\n"
     ]
    },
    {
     "name": "stderr",
     "output_type": "stream",
     "text": [
      "Error 200, reqId 73: No security definition has been found for the request, contract: Option(symbol='AAPL', lastTradeDateOrContractMonth='20220819', strike=141.0, right='P', exchange='SMART')\n",
      "Error 200, reqId 74: No security definition has been found for the request, contract: Option(symbol='AAPL', lastTradeDateOrContractMonth='20220819', strike=142.0, right='P', exchange='SMART')\n",
      "Error 200, reqId 75: No security definition has been found for the request, contract: Option(symbol='AAPL', lastTradeDateOrContractMonth='20220819', strike=143.0, right='P', exchange='SMART')\n",
      "Error 200, reqId 76: No security definition has been found for the request, contract: Option(symbol='AAPL', lastTradeDateOrContractMonth='20220819', strike=144.0, right='P', exchange='SMART')\n"
     ]
    },
    {
     "name": "stdout",
     "output_type": "stream",
     "text": [
      " >>> NOGOOD CONTRACT\n",
      " >>> NOGOOD CONTRACT\n",
      " >>> NOGOOD CONTRACT\n",
      " >>> NOGOOD CONTRACT\n"
     ]
    },
    {
     "name": "stderr",
     "output_type": "stream",
     "text": [
      "Error 200, reqId 78: No security definition has been found for the request, contract: Option(symbol='AAPL', lastTradeDateOrContractMonth='20220819', strike=146.0, right='P', exchange='SMART')\n",
      "Error 200, reqId 79: No security definition has been found for the request, contract: Option(symbol='AAPL', lastTradeDateOrContractMonth='20220819', strike=147.0, right='P', exchange='SMART')\n",
      "Error 200, reqId 80: No security definition has been found for the request, contract: Option(symbol='AAPL', lastTradeDateOrContractMonth='20220819', strike=148.0, right='P', exchange='SMART')\n",
      "Error 200, reqId 81: No security definition has been found for the request, contract: Option(symbol='AAPL', lastTradeDateOrContractMonth='20220819', strike=149.0, right='P', exchange='SMART')\n"
     ]
    },
    {
     "name": "stdout",
     "output_type": "stream",
     "text": [
      " >>> NOGOOD CONTRACT\n",
      " >>> NOGOOD CONTRACT\n",
      " >>> NOGOOD CONTRACT\n",
      " >>> NOGOOD CONTRACT\n"
     ]
    },
    {
     "name": "stderr",
     "output_type": "stream",
     "text": [
      "Error 200, reqId 83: No security definition has been found for the request, contract: Option(symbol='AAPL', lastTradeDateOrContractMonth='20220819', strike=152.5, right='P', exchange='SMART')\n"
     ]
    },
    {
     "name": "stdout",
     "output_type": "stream",
     "text": [
      " >>> NOGOOD CONTRACT\n"
     ]
    },
    {
     "name": "stderr",
     "output_type": "stream",
     "text": [
      "Error 200, reqId 85: No security definition has been found for the request, contract: Option(symbol='AAPL', lastTradeDateOrContractMonth='20220819', strike=157.5, right='P', exchange='SMART')\n"
     ]
    },
    {
     "name": "stdout",
     "output_type": "stream",
     "text": [
      " >>> NOGOOD CONTRACT\n"
     ]
    },
    {
     "name": "stderr",
     "output_type": "stream",
     "text": [
      "Error 200, reqId 87: No security definition has been found for the request, contract: Option(symbol='AAPL', lastTradeDateOrContractMonth='20220819', strike=162.5, right='P', exchange='SMART')\n"
     ]
    },
    {
     "name": "stdout",
     "output_type": "stream",
     "text": [
      " >>> NOGOOD CONTRACT\n"
     ]
    },
    {
     "name": "stderr",
     "output_type": "stream",
     "text": [
      "Error 200, reqId 108: No security definition has been found for the request, contract: Option(symbol='AAPL', lastTradeDateOrContractMonth='20220819', strike=265.0, right='P', exchange='SMART')\n",
      "Error 200, reqId 109: No security definition has been found for the request, contract: Option(symbol='AAPL', lastTradeDateOrContractMonth='20220819', strike=270.0, right='P', exchange='SMART')\n",
      "Error 200, reqId 110: No security definition has been found for the request, contract: Option(symbol='AAPL', lastTradeDateOrContractMonth='20220819', strike=275.0, right='P', exchange='SMART')\n",
      "Error 200, reqId 111: No security definition has been found for the request, contract: Option(symbol='AAPL', lastTradeDateOrContractMonth='20220819', strike=280.0, right='P', exchange='SMART')\n"
     ]
    },
    {
     "name": "stdout",
     "output_type": "stream",
     "text": [
      " >>> NOGOOD CONTRACT\n",
      " >>> NOGOOD CONTRACT\n",
      " >>> NOGOOD CONTRACT\n",
      " >>> NOGOOD CONTRACT\n"
     ]
    },
    {
     "name": "stderr",
     "output_type": "stream",
     "text": [
      "Error 200, reqId 112: No security definition has been found for the request, contract: Option(symbol='AAPL', lastTradeDateOrContractMonth='20220819', strike=285.0, right='P', exchange='SMART')\n",
      "Error 200, reqId 113: No security definition has been found for the request, contract: Option(symbol='AAPL', lastTradeDateOrContractMonth='20220819', strike=290.0, right='P', exchange='SMART')\n",
      "Error 200, reqId 114: No security definition has been found for the request, contract: Option(symbol='AAPL', lastTradeDateOrContractMonth='20220819', strike=300.0, right='P', exchange='SMART')\n"
     ]
    },
    {
     "name": "stdout",
     "output_type": "stream",
     "text": [
      " >>> NOGOOD CONTRACT\n",
      " >>> NOGOOD CONTRACT\n",
      " >>> NOGOOD CONTRACT\n"
     ]
    },
    {
     "name": "stderr",
     "output_type": "stream",
     "text": [
      "Error 200, reqId 115: No security definition has been found for the request, contract: Option(symbol='AAPL', lastTradeDateOrContractMonth='20220819', strike=310.0, right='P', exchange='SMART')\n",
      "Error 200, reqId 116: No security definition has been found for the request, contract: Option(symbol='AAPL', lastTradeDateOrContractMonth='20220819', strike=320.0, right='P', exchange='SMART')\n",
      "Error 200, reqId 117: No security definition has been found for the request, contract: Option(symbol='AAPL', lastTradeDateOrContractMonth='20221021', strike=30.0, right='P', exchange='SMART')\n",
      "Error 200, reqId 118: No security definition has been found for the request, contract: Option(symbol='AAPL', lastTradeDateOrContractMonth='20221021', strike=35.0, right='P', exchange='SMART')\n"
     ]
    },
    {
     "name": "stdout",
     "output_type": "stream",
     "text": [
      " >>> NOGOOD CONTRACT\n",
      " >>> NOGOOD CONTRACT\n",
      " >>> NOGOOD CONTRACT\n",
      " >>> NOGOOD CONTRACT\n"
     ]
    },
    {
     "name": "stderr",
     "output_type": "stream",
     "text": [
      "Error 200, reqId 119: No security definition has been found for the request, contract: Option(symbol='AAPL', lastTradeDateOrContractMonth='20221021', strike=40.0, right='P', exchange='SMART')\n",
      "Error 200, reqId 120: No security definition has been found for the request, contract: Option(symbol='AAPL', lastTradeDateOrContractMonth='20221021', strike=41.25, right='P', exchange='SMART')\n",
      "Error 200, reqId 121: No security definition has been found for the request, contract: Option(symbol='AAPL', lastTradeDateOrContractMonth='20221021', strike=42.5, right='P', exchange='SMART')\n",
      "Error 200, reqId 122: No security definition has been found for the request, contract: Option(symbol='AAPL', lastTradeDateOrContractMonth='20221021', strike=43.75, right='P', exchange='SMART')\n"
     ]
    },
    {
     "name": "stdout",
     "output_type": "stream",
     "text": [
      " >>> NOGOOD CONTRACT\n",
      " >>> NOGOOD CONTRACT\n",
      " >>> NOGOOD CONTRACT\n",
      " >>> NOGOOD CONTRACT\n"
     ]
    },
    {
     "name": "stderr",
     "output_type": "stream",
     "text": [
      "Error 200, reqId 123: No security definition has been found for the request, contract: Option(symbol='AAPL', lastTradeDateOrContractMonth='20221021', strike=45.0, right='P', exchange='SMART')\n",
      "Error 200, reqId 124: No security definition has been found for the request, contract: Option(symbol='AAPL', lastTradeDateOrContractMonth='20221021', strike=46.25, right='P', exchange='SMART')\n",
      "Error 200, reqId 125: No security definition has been found for the request, contract: Option(symbol='AAPL', lastTradeDateOrContractMonth='20221021', strike=47.5, right='P', exchange='SMART')\n",
      "Error 200, reqId 126: No security definition has been found for the request, contract: Option(symbol='AAPL', lastTradeDateOrContractMonth='20221021', strike=48.75, right='P', exchange='SMART')\n"
     ]
    },
    {
     "name": "stdout",
     "output_type": "stream",
     "text": [
      " >>> NOGOOD CONTRACT\n",
      " >>> NOGOOD CONTRACT\n",
      " >>> NOGOOD CONTRACT\n",
      " >>> NOGOOD CONTRACT\n"
     ]
    },
    {
     "name": "stderr",
     "output_type": "stream",
     "text": [
      "Error 200, reqId 128: No security definition has been found for the request, contract: Option(symbol='AAPL', lastTradeDateOrContractMonth='20221021', strike=52.5, right='P', exchange='SMART')\n",
      "Error 200, reqId 129: No security definition has been found for the request, contract: Option(symbol='AAPL', lastTradeDateOrContractMonth='20221021', strike=55.0, right='P', exchange='SMART')\n",
      "Error 200, reqId 130: No security definition has been found for the request, contract: Option(symbol='AAPL', lastTradeDateOrContractMonth='20221021', strike=57.5, right='P', exchange='SMART')\n"
     ]
    },
    {
     "name": "stdout",
     "output_type": "stream",
     "text": [
      " >>> NOGOOD CONTRACT\n",
      " >>> NOGOOD CONTRACT\n",
      " >>> NOGOOD CONTRACT\n"
     ]
    },
    {
     "name": "stderr",
     "output_type": "stream",
     "text": [
      "Error 200, reqId 132: No security definition has been found for the request, contract: Option(symbol='AAPL', lastTradeDateOrContractMonth='20221021', strike=62.5, right='P', exchange='SMART')\n",
      "Error 200, reqId 133: No security definition has been found for the request, contract: Option(symbol='AAPL', lastTradeDateOrContractMonth='20221021', strike=65.0, right='P', exchange='SMART')\n",
      "Error 200, reqId 134: No security definition has been found for the request, contract: Option(symbol='AAPL', lastTradeDateOrContractMonth='20221021', strike=67.5, right='P', exchange='SMART')\n"
     ]
    },
    {
     "name": "stdout",
     "output_type": "stream",
     "text": [
      " >>> NOGOOD CONTRACT\n",
      " >>> NOGOOD CONTRACT\n",
      " >>> NOGOOD CONTRACT\n"
     ]
    },
    {
     "name": "stderr",
     "output_type": "stream",
     "text": [
      "Error 200, reqId 136: No security definition has been found for the request, contract: Option(symbol='AAPL', lastTradeDateOrContractMonth='20221021', strike=72.5, right='P', exchange='SMART')\n"
     ]
    },
    {
     "name": "stdout",
     "output_type": "stream",
     "text": [
      " >>> NOGOOD CONTRACT\n"
     ]
    },
    {
     "name": "stderr",
     "output_type": "stream",
     "text": [
      "Error 200, reqId 138: No security definition has been found for the request, contract: Option(symbol='AAPL', lastTradeDateOrContractMonth='20221021', strike=76.25, right='P', exchange='SMART')\n",
      "Error 200, reqId 139: No security definition has been found for the request, contract: Option(symbol='AAPL', lastTradeDateOrContractMonth='20221021', strike=77.5, right='P', exchange='SMART')\n",
      "Error 200, reqId 140: No security definition has been found for the request, contract: Option(symbol='AAPL', lastTradeDateOrContractMonth='20221021', strike=78.75, right='P', exchange='SMART')\n"
     ]
    },
    {
     "name": "stdout",
     "output_type": "stream",
     "text": [
      " >>> NOGOOD CONTRACT\n",
      " >>> NOGOOD CONTRACT\n",
      " >>> NOGOOD CONTRACT\n"
     ]
    },
    {
     "name": "stderr",
     "output_type": "stream",
     "text": [
      "Error 200, reqId 142: No security definition has been found for the request, contract: Option(symbol='AAPL', lastTradeDateOrContractMonth='20221021', strike=81.25, right='P', exchange='SMART')\n",
      "Error 200, reqId 143: No security definition has been found for the request, contract: Option(symbol='AAPL', lastTradeDateOrContractMonth='20221021', strike=82.5, right='P', exchange='SMART')\n",
      "Error 200, reqId 144: No security definition has been found for the request, contract: Option(symbol='AAPL', lastTradeDateOrContractMonth='20221021', strike=83.75, right='P', exchange='SMART')\n"
     ]
    },
    {
     "name": "stdout",
     "output_type": "stream",
     "text": [
      " >>> NOGOOD CONTRACT\n",
      " >>> NOGOOD CONTRACT\n",
      " >>> NOGOOD CONTRACT\n"
     ]
    },
    {
     "name": "stderr",
     "output_type": "stream",
     "text": [
      "Error 200, reqId 146: No security definition has been found for the request, contract: Option(symbol='AAPL', lastTradeDateOrContractMonth='20221021', strike=86.25, right='P', exchange='SMART')\n",
      "Error 200, reqId 147: No security definition has been found for the request, contract: Option(symbol='AAPL', lastTradeDateOrContractMonth='20221021', strike=87.5, right='P', exchange='SMART')\n"
     ]
    },
    {
     "name": "stdout",
     "output_type": "stream",
     "text": [
      " >>> NOGOOD CONTRACT\n",
      " >>> NOGOOD CONTRACT\n"
     ]
    },
    {
     "name": "stderr",
     "output_type": "stream",
     "text": [
      "Error 200, reqId 149: No security definition has been found for the request, contract: Option(symbol='AAPL', lastTradeDateOrContractMonth='20221021', strike=92.5, right='P', exchange='SMART')\n"
     ]
    },
    {
     "name": "stdout",
     "output_type": "stream",
     "text": [
      " >>> NOGOOD CONTRACT\n"
     ]
    },
    {
     "name": "stderr",
     "output_type": "stream",
     "text": [
      "Error 200, reqId 151: No security definition has been found for the request, contract: Option(symbol='AAPL', lastTradeDateOrContractMonth='20221021', strike=97.5, right='P', exchange='SMART')\n"
     ]
    },
    {
     "name": "stdout",
     "output_type": "stream",
     "text": [
      " >>> NOGOOD CONTRACT\n"
     ]
    },
    {
     "name": "stderr",
     "output_type": "stream",
     "text": [
      "Error 200, reqId 153: No security definition has been found for the request, contract: Option(symbol='AAPL', lastTradeDateOrContractMonth='20221021', strike=102.5, right='P', exchange='SMART')\n"
     ]
    },
    {
     "name": "stdout",
     "output_type": "stream",
     "text": [
      " >>> NOGOOD CONTRACT\n"
     ]
    },
    {
     "name": "stderr",
     "output_type": "stream",
     "text": [
      "Error 200, reqId 155: No security definition has been found for the request, contract: Option(symbol='AAPL', lastTradeDateOrContractMonth='20221021', strike=107.5, right='P', exchange='SMART')\n"
     ]
    },
    {
     "name": "stdout",
     "output_type": "stream",
     "text": [
      " >>> NOGOOD CONTRACT\n"
     ]
    },
    {
     "name": "stderr",
     "output_type": "stream",
     "text": [
      "Error 200, reqId 157: No security definition has been found for the request, contract: Option(symbol='AAPL', lastTradeDateOrContractMonth='20221021', strike=112.5, right='P', exchange='SMART')\n"
     ]
    },
    {
     "name": "stdout",
     "output_type": "stream",
     "text": [
      " >>> NOGOOD CONTRACT\n"
     ]
    },
    {
     "name": "stderr",
     "output_type": "stream",
     "text": [
      "Error 200, reqId 159: No security definition has been found for the request, contract: Option(symbol='AAPL', lastTradeDateOrContractMonth='20221021', strike=117.0, right='P', exchange='SMART')\n",
      "Error 200, reqId 160: No security definition has been found for the request, contract: Option(symbol='AAPL', lastTradeDateOrContractMonth='20221021', strike=117.5, right='P', exchange='SMART')\n"
     ]
    },
    {
     "name": "stdout",
     "output_type": "stream",
     "text": [
      " >>> NOGOOD CONTRACT\n",
      " >>> NOGOOD CONTRACT\n"
     ]
    },
    {
     "name": "stderr",
     "output_type": "stream",
     "text": [
      "Error 200, reqId 161: No security definition has been found for the request, contract: Option(symbol='AAPL', lastTradeDateOrContractMonth='20221021', strike=118.0, right='P', exchange='SMART')\n",
      "Error 200, reqId 162: No security definition has been found for the request, contract: Option(symbol='AAPL', lastTradeDateOrContractMonth='20221021', strike=119.0, right='P', exchange='SMART')\n"
     ]
    },
    {
     "name": "stdout",
     "output_type": "stream",
     "text": [
      " >>> NOGOOD CONTRACT\n",
      " >>> NOGOOD CONTRACT\n"
     ]
    },
    {
     "name": "stderr",
     "output_type": "stream",
     "text": [
      "Error 200, reqId 164: No security definition has been found for the request, contract: Option(symbol='AAPL', lastTradeDateOrContractMonth='20221021', strike=121.0, right='P', exchange='SMART')\n",
      "Error 200, reqId 165: No security definition has been found for the request, contract: Option(symbol='AAPL', lastTradeDateOrContractMonth='20221021', strike=122.0, right='P', exchange='SMART')\n"
     ]
    },
    {
     "name": "stdout",
     "output_type": "stream",
     "text": [
      " >>> NOGOOD CONTRACT\n",
      " >>> NOGOOD CONTRACT\n"
     ]
    },
    {
     "name": "stderr",
     "output_type": "stream",
     "text": [
      "Error 200, reqId 166: No security definition has been found for the request, contract: Option(symbol='AAPL', lastTradeDateOrContractMonth='20221021', strike=122.5, right='P', exchange='SMART')\n",
      "Error 200, reqId 167: No security definition has been found for the request, contract: Option(symbol='AAPL', lastTradeDateOrContractMonth='20221021', strike=123.0, right='P', exchange='SMART')\n",
      "Error 200, reqId 168: No security definition has been found for the request, contract: Option(symbol='AAPL', lastTradeDateOrContractMonth='20221021', strike=124.0, right='P', exchange='SMART')\n"
     ]
    },
    {
     "name": "stdout",
     "output_type": "stream",
     "text": [
      " >>> NOGOOD CONTRACT\n",
      " >>> NOGOOD CONTRACT\n",
      " >>> NOGOOD CONTRACT\n"
     ]
    },
    {
     "name": "stderr",
     "output_type": "stream",
     "text": [
      "Error 200, reqId 170: No security definition has been found for the request, contract: Option(symbol='AAPL', lastTradeDateOrContractMonth='20221021', strike=126.0, right='P', exchange='SMART')\n",
      "Error 200, reqId 171: No security definition has been found for the request, contract: Option(symbol='AAPL', lastTradeDateOrContractMonth='20221021', strike=127.0, right='P', exchange='SMART')\n",
      "Error 200, reqId 172: No security definition has been found for the request, contract: Option(symbol='AAPL', lastTradeDateOrContractMonth='20221021', strike=128.0, right='P', exchange='SMART')\n",
      "Error 200, reqId 173: No security definition has been found for the request, contract: Option(symbol='AAPL', lastTradeDateOrContractMonth='20221021', strike=129.0, right='P', exchange='SMART')\n"
     ]
    },
    {
     "name": "stdout",
     "output_type": "stream",
     "text": [
      " >>> NOGOOD CONTRACT\n",
      " >>> NOGOOD CONTRACT\n",
      " >>> NOGOOD CONTRACT\n",
      " >>> NOGOOD CONTRACT\n"
     ]
    },
    {
     "name": "stderr",
     "output_type": "stream",
     "text": [
      "Error 200, reqId 175: No security definition has been found for the request, contract: Option(symbol='AAPL', lastTradeDateOrContractMonth='20221021', strike=131.0, right='P', exchange='SMART')\n",
      "Error 200, reqId 176: No security definition has been found for the request, contract: Option(symbol='AAPL', lastTradeDateOrContractMonth='20221021', strike=132.0, right='P', exchange='SMART')\n",
      "Error 200, reqId 177: No security definition has been found for the request, contract: Option(symbol='AAPL', lastTradeDateOrContractMonth='20221021', strike=133.0, right='P', exchange='SMART')\n",
      "Error 200, reqId 178: No security definition has been found for the request, contract: Option(symbol='AAPL', lastTradeDateOrContractMonth='20221021', strike=134.0, right='P', exchange='SMART')\n"
     ]
    },
    {
     "name": "stdout",
     "output_type": "stream",
     "text": [
      " >>> NOGOOD CONTRACT\n",
      " >>> NOGOOD CONTRACT\n",
      " >>> NOGOOD CONTRACT\n",
      " >>> NOGOOD CONTRACT\n"
     ]
    },
    {
     "name": "stderr",
     "output_type": "stream",
     "text": [
      "Error 200, reqId 180: No security definition has been found for the request, contract: Option(symbol='AAPL', lastTradeDateOrContractMonth='20221021', strike=136.0, right='P', exchange='SMART')\n",
      "Error 200, reqId 181: No security definition has been found for the request, contract: Option(symbol='AAPL', lastTradeDateOrContractMonth='20221021', strike=137.0, right='P', exchange='SMART')\n",
      "Error 200, reqId 182: No security definition has been found for the request, contract: Option(symbol='AAPL', lastTradeDateOrContractMonth='20221021', strike=138.0, right='P', exchange='SMART')\n"
     ]
    },
    {
     "name": "stdout",
     "output_type": "stream",
     "text": [
      " >>> NOGOOD CONTRACT\n",
      " >>> NOGOOD CONTRACT\n",
      " >>> NOGOOD CONTRACT\n"
     ]
    },
    {
     "name": "stderr",
     "output_type": "stream",
     "text": [
      "Error 200, reqId 183: No security definition has been found for the request, contract: Option(symbol='AAPL', lastTradeDateOrContractMonth='20221021', strike=139.0, right='P', exchange='SMART')\n"
     ]
    },
    {
     "name": "stdout",
     "output_type": "stream",
     "text": [
      " >>> NOGOOD CONTRACT\n"
     ]
    },
    {
     "name": "stderr",
     "output_type": "stream",
     "text": [
      "Error 200, reqId 185: No security definition has been found for the request, contract: Option(symbol='AAPL', lastTradeDateOrContractMonth='20221021', strike=141.0, right='P', exchange='SMART')\n",
      "Error 200, reqId 186: No security definition has been found for the request, contract: Option(symbol='AAPL', lastTradeDateOrContractMonth='20221021', strike=142.0, right='P', exchange='SMART')\n",
      "Error 200, reqId 187: No security definition has been found for the request, contract: Option(symbol='AAPL', lastTradeDateOrContractMonth='20221021', strike=143.0, right='P', exchange='SMART')\n",
      "Error 200, reqId 188: No security definition has been found for the request, contract: Option(symbol='AAPL', lastTradeDateOrContractMonth='20221021', strike=144.0, right='P', exchange='SMART')\n"
     ]
    },
    {
     "name": "stdout",
     "output_type": "stream",
     "text": [
      " >>> NOGOOD CONTRACT\n",
      " >>> NOGOOD CONTRACT\n",
      " >>> NOGOOD CONTRACT\n",
      " >>> NOGOOD CONTRACT\n"
     ]
    },
    {
     "name": "stderr",
     "output_type": "stream",
     "text": [
      "Error 200, reqId 190: No security definition has been found for the request, contract: Option(symbol='AAPL', lastTradeDateOrContractMonth='20221021', strike=146.0, right='P', exchange='SMART')\n",
      "Error 200, reqId 191: No security definition has been found for the request, contract: Option(symbol='AAPL', lastTradeDateOrContractMonth='20221021', strike=147.0, right='P', exchange='SMART')\n"
     ]
    },
    {
     "name": "stdout",
     "output_type": "stream",
     "text": [
      " >>> NOGOOD CONTRACT\n",
      " >>> NOGOOD CONTRACT\n"
     ]
    },
    {
     "name": "stderr",
     "output_type": "stream",
     "text": [
      "Error 200, reqId 192: No security definition has been found for the request, contract: Option(symbol='AAPL', lastTradeDateOrContractMonth='20221021', strike=148.0, right='P', exchange='SMART')\n",
      "Error 200, reqId 193: No security definition has been found for the request, contract: Option(symbol='AAPL', lastTradeDateOrContractMonth='20221021', strike=149.0, right='P', exchange='SMART')\n"
     ]
    },
    {
     "name": "stdout",
     "output_type": "stream",
     "text": [
      " >>> NOGOOD CONTRACT\n",
      " >>> NOGOOD CONTRACT\n"
     ]
    },
    {
     "name": "stderr",
     "output_type": "stream",
     "text": [
      "Error 200, reqId 195: No security definition has been found for the request, contract: Option(symbol='AAPL', lastTradeDateOrContractMonth='20221021', strike=152.5, right='P', exchange='SMART')\n"
     ]
    },
    {
     "name": "stdout",
     "output_type": "stream",
     "text": [
      " >>> NOGOOD CONTRACT\n"
     ]
    },
    {
     "name": "stderr",
     "output_type": "stream",
     "text": [
      "Error 200, reqId 197: No security definition has been found for the request, contract: Option(symbol='AAPL', lastTradeDateOrContractMonth='20221021', strike=157.5, right='P', exchange='SMART')\n"
     ]
    },
    {
     "name": "stdout",
     "output_type": "stream",
     "text": [
      " >>> NOGOOD CONTRACT\n"
     ]
    },
    {
     "name": "stderr",
     "output_type": "stream",
     "text": [
      "Error 200, reqId 199: No security definition has been found for the request, contract: Option(symbol='AAPL', lastTradeDateOrContractMonth='20221021', strike=162.5, right='P', exchange='SMART')\n"
     ]
    },
    {
     "name": "stdout",
     "output_type": "stream",
     "text": [
      " >>> NOGOOD CONTRACT\n"
     ]
    },
    {
     "name": "stderr",
     "output_type": "stream",
     "text": [
      "Error 200, reqId 222: No security definition has been found for the request, contract: Option(symbol='AAPL', lastTradeDateOrContractMonth='20221021', strike=275.0, right='P', exchange='SMART')\n"
     ]
    },
    {
     "name": "stdout",
     "output_type": "stream",
     "text": [
      " >>> NOGOOD CONTRACT\n"
     ]
    },
    {
     "name": "stderr",
     "output_type": "stream",
     "text": [
      "Error 200, reqId 224: No security definition has been found for the request, contract: Option(symbol='AAPL', lastTradeDateOrContractMonth='20221021', strike=285.0, right='P', exchange='SMART')\n"
     ]
    },
    {
     "name": "stdout",
     "output_type": "stream",
     "text": [
      " >>> NOGOOD CONTRACT\n"
     ]
    },
    {
     "name": "stderr",
     "output_type": "stream",
     "text": [
      "Error 200, reqId 227: No security definition has been found for the request, contract: Option(symbol='AAPL', lastTradeDateOrContractMonth='20221021', strike=310.0, right='P', exchange='SMART')\n",
      "Error 200, reqId 228: No security definition has been found for the request, contract: Option(symbol='AAPL', lastTradeDateOrContractMonth='20221021', strike=320.0, right='P', exchange='SMART')\n",
      "Error 200, reqId 229: No security definition has been found for the request, contract: Option(symbol='AAPL', lastTradeDateOrContractMonth='20221118', strike=30.0, right='P', exchange='SMART')\n",
      "Error 200, reqId 230: No security definition has been found for the request, contract: Option(symbol='AAPL', lastTradeDateOrContractMonth='20221118', strike=35.0, right='P', exchange='SMART')\n"
     ]
    },
    {
     "name": "stdout",
     "output_type": "stream",
     "text": [
      " >>> NOGOOD CONTRACT\n",
      " >>> NOGOOD CONTRACT\n",
      " >>> NOGOOD CONTRACT\n",
      " >>> NOGOOD CONTRACT\n"
     ]
    },
    {
     "name": "stderr",
     "output_type": "stream",
     "text": [
      "Error 200, reqId 231: No security definition has been found for the request, contract: Option(symbol='AAPL', lastTradeDateOrContractMonth='20221118', strike=40.0, right='P', exchange='SMART')\n"
     ]
    },
    {
     "name": "stdout",
     "output_type": "stream",
     "text": [
      " >>> NOGOOD CONTRACT\n"
     ]
    },
    {
     "name": "stderr",
     "output_type": "stream",
     "text": [
      "Error 200, reqId 232: No security definition has been found for the request, contract: Option(symbol='AAPL', lastTradeDateOrContractMonth='20221118', strike=41.25, right='P', exchange='SMART')\n",
      "Error 200, reqId 233: No security definition has been found for the request, contract: Option(symbol='AAPL', lastTradeDateOrContractMonth='20221118', strike=42.5, right='P', exchange='SMART')\n",
      "Error 200, reqId 234: No security definition has been found for the request, contract: Option(symbol='AAPL', lastTradeDateOrContractMonth='20221118', strike=43.75, right='P', exchange='SMART')\n",
      "Error 200, reqId 235: No security definition has been found for the request, contract: Option(symbol='AAPL', lastTradeDateOrContractMonth='20221118', strike=45.0, right='P', exchange='SMART')\n"
     ]
    },
    {
     "name": "stdout",
     "output_type": "stream",
     "text": [
      " >>> NOGOOD CONTRACT\n",
      " >>> NOGOOD CONTRACT\n",
      " >>> NOGOOD CONTRACT\n",
      " >>> NOGOOD CONTRACT\n"
     ]
    },
    {
     "name": "stderr",
     "output_type": "stream",
     "text": [
      "Error 200, reqId 236: No security definition has been found for the request, contract: Option(symbol='AAPL', lastTradeDateOrContractMonth='20221118', strike=46.25, right='P', exchange='SMART')\n",
      "Error 200, reqId 237: No security definition has been found for the request, contract: Option(symbol='AAPL', lastTradeDateOrContractMonth='20221118', strike=47.5, right='P', exchange='SMART')\n",
      "Error 200, reqId 238: No security definition has been found for the request, contract: Option(symbol='AAPL', lastTradeDateOrContractMonth='20221118', strike=48.75, right='P', exchange='SMART')\n"
     ]
    },
    {
     "name": "stdout",
     "output_type": "stream",
     "text": [
      " >>> NOGOOD CONTRACT\n",
      " >>> NOGOOD CONTRACT\n",
      " >>> NOGOOD CONTRACT\n"
     ]
    },
    {
     "name": "stderr",
     "output_type": "stream",
     "text": [
      "Error 200, reqId 240: No security definition has been found for the request, contract: Option(symbol='AAPL', lastTradeDateOrContractMonth='20221118', strike=52.5, right='P', exchange='SMART')\n",
      "Error 200, reqId 241: No security definition has been found for the request, contract: Option(symbol='AAPL', lastTradeDateOrContractMonth='20221118', strike=55.0, right='P', exchange='SMART')\n",
      "Error 200, reqId 242: No security definition has been found for the request, contract: Option(symbol='AAPL', lastTradeDateOrContractMonth='20221118', strike=57.5, right='P', exchange='SMART')\n"
     ]
    },
    {
     "name": "stdout",
     "output_type": "stream",
     "text": [
      " >>> NOGOOD CONTRACT\n",
      " >>> NOGOOD CONTRACT\n",
      " >>> NOGOOD CONTRACT\n"
     ]
    },
    {
     "name": "stderr",
     "output_type": "stream",
     "text": [
      "Error 200, reqId 244: No security definition has been found for the request, contract: Option(symbol='AAPL', lastTradeDateOrContractMonth='20221118', strike=62.5, right='P', exchange='SMART')\n",
      "Error 200, reqId 245: No security definition has been found for the request, contract: Option(symbol='AAPL', lastTradeDateOrContractMonth='20221118', strike=65.0, right='P', exchange='SMART')\n",
      "Error 200, reqId 246: No security definition has been found for the request, contract: Option(symbol='AAPL', lastTradeDateOrContractMonth='20221118', strike=67.5, right='P', exchange='SMART')\n"
     ]
    },
    {
     "name": "stdout",
     "output_type": "stream",
     "text": [
      " >>> NOGOOD CONTRACT\n",
      " >>> NOGOOD CONTRACT\n",
      " >>> NOGOOD CONTRACT\n"
     ]
    },
    {
     "name": "stderr",
     "output_type": "stream",
     "text": [
      "Error 200, reqId 248: No security definition has been found for the request, contract: Option(symbol='AAPL', lastTradeDateOrContractMonth='20221118', strike=72.5, right='P', exchange='SMART')\n"
     ]
    },
    {
     "name": "stdout",
     "output_type": "stream",
     "text": [
      " >>> NOGOOD CONTRACT\n"
     ]
    },
    {
     "name": "stderr",
     "output_type": "stream",
     "text": [
      "Error 200, reqId 250: No security definition has been found for the request, contract: Option(symbol='AAPL', lastTradeDateOrContractMonth='20221118', strike=76.25, right='P', exchange='SMART')\n",
      "Error 200, reqId 251: No security definition has been found for the request, contract: Option(symbol='AAPL', lastTradeDateOrContractMonth='20221118', strike=77.5, right='P', exchange='SMART')\n",
      "Error 200, reqId 252: No security definition has been found for the request, contract: Option(symbol='AAPL', lastTradeDateOrContractMonth='20221118', strike=78.75, right='P', exchange='SMART')\n"
     ]
    },
    {
     "name": "stdout",
     "output_type": "stream",
     "text": [
      " >>> NOGOOD CONTRACT\n",
      " >>> NOGOOD CONTRACT\n",
      " >>> NOGOOD CONTRACT\n"
     ]
    },
    {
     "name": "stderr",
     "output_type": "stream",
     "text": [
      "Error 200, reqId 254: No security definition has been found for the request, contract: Option(symbol='AAPL', lastTradeDateOrContractMonth='20221118', strike=81.25, right='P', exchange='SMART')\n",
      "Error 200, reqId 255: No security definition has been found for the request, contract: Option(symbol='AAPL', lastTradeDateOrContractMonth='20221118', strike=82.5, right='P', exchange='SMART')\n",
      "Error 200, reqId 256: No security definition has been found for the request, contract: Option(symbol='AAPL', lastTradeDateOrContractMonth='20221118', strike=83.75, right='P', exchange='SMART')\n"
     ]
    },
    {
     "name": "stdout",
     "output_type": "stream",
     "text": [
      " >>> NOGOOD CONTRACT\n",
      " >>> NOGOOD CONTRACT\n",
      " >>> NOGOOD CONTRACT\n"
     ]
    },
    {
     "name": "stderr",
     "output_type": "stream",
     "text": [
      "Error 200, reqId 258: No security definition has been found for the request, contract: Option(symbol='AAPL', lastTradeDateOrContractMonth='20221118', strike=86.25, right='P', exchange='SMART')\n",
      "Error 200, reqId 259: No security definition has been found for the request, contract: Option(symbol='AAPL', lastTradeDateOrContractMonth='20221118', strike=87.5, right='P', exchange='SMART')\n"
     ]
    },
    {
     "name": "stdout",
     "output_type": "stream",
     "text": [
      " >>> NOGOOD CONTRACT\n",
      " >>> NOGOOD CONTRACT\n"
     ]
    },
    {
     "name": "stderr",
     "output_type": "stream",
     "text": [
      "Error 200, reqId 261: No security definition has been found for the request, contract: Option(symbol='AAPL', lastTradeDateOrContractMonth='20221118', strike=92.5, right='P', exchange='SMART')\n"
     ]
    },
    {
     "name": "stdout",
     "output_type": "stream",
     "text": [
      " >>> NOGOOD CONTRACT\n"
     ]
    },
    {
     "name": "stderr",
     "output_type": "stream",
     "text": [
      "Error 200, reqId 263: No security definition has been found for the request, contract: Option(symbol='AAPL', lastTradeDateOrContractMonth='20221118', strike=97.5, right='P', exchange='SMART')\n"
     ]
    },
    {
     "name": "stdout",
     "output_type": "stream",
     "text": [
      " >>> NOGOOD CONTRACT\n"
     ]
    },
    {
     "name": "stderr",
     "output_type": "stream",
     "text": [
      "Error 200, reqId 265: No security definition has been found for the request, contract: Option(symbol='AAPL', lastTradeDateOrContractMonth='20221118', strike=102.5, right='P', exchange='SMART')\n"
     ]
    },
    {
     "name": "stdout",
     "output_type": "stream",
     "text": [
      " >>> NOGOOD CONTRACT\n"
     ]
    },
    {
     "name": "stderr",
     "output_type": "stream",
     "text": [
      "Error 200, reqId 267: No security definition has been found for the request, contract: Option(symbol='AAPL', lastTradeDateOrContractMonth='20221118', strike=107.5, right='P', exchange='SMART')\n"
     ]
    },
    {
     "name": "stdout",
     "output_type": "stream",
     "text": [
      " >>> NOGOOD CONTRACT\n"
     ]
    },
    {
     "name": "stderr",
     "output_type": "stream",
     "text": [
      "Error 200, reqId 269: No security definition has been found for the request, contract: Option(symbol='AAPL', lastTradeDateOrContractMonth='20221118', strike=112.5, right='P', exchange='SMART')\n"
     ]
    },
    {
     "name": "stdout",
     "output_type": "stream",
     "text": [
      " >>> NOGOOD CONTRACT\n"
     ]
    },
    {
     "name": "stderr",
     "output_type": "stream",
     "text": [
      "Error 200, reqId 271: No security definition has been found for the request, contract: Option(symbol='AAPL', lastTradeDateOrContractMonth='20221118', strike=117.0, right='P', exchange='SMART')\n",
      "Error 200, reqId 272: No security definition has been found for the request, contract: Option(symbol='AAPL', lastTradeDateOrContractMonth='20221118', strike=117.5, right='P', exchange='SMART')\n",
      "Error 200, reqId 273: No security definition has been found for the request, contract: Option(symbol='AAPL', lastTradeDateOrContractMonth='20221118', strike=118.0, right='P', exchange='SMART')\n",
      "Error 200, reqId 274: No security definition has been found for the request, contract: Option(symbol='AAPL', lastTradeDateOrContractMonth='20221118', strike=119.0, right='P', exchange='SMART')\n"
     ]
    },
    {
     "name": "stdout",
     "output_type": "stream",
     "text": [
      " >>> NOGOOD CONTRACT\n",
      " >>> NOGOOD CONTRACT\n",
      " >>> NOGOOD CONTRACT\n",
      " >>> NOGOOD CONTRACT\n"
     ]
    },
    {
     "name": "stderr",
     "output_type": "stream",
     "text": [
      "Error 200, reqId 276: No security definition has been found for the request, contract: Option(symbol='AAPL', lastTradeDateOrContractMonth='20221118', strike=121.0, right='P', exchange='SMART')\n"
     ]
    },
    {
     "name": "stdout",
     "output_type": "stream",
     "text": [
      " >>> NOGOOD CONTRACT\n"
     ]
    },
    {
     "name": "stderr",
     "output_type": "stream",
     "text": [
      "Error 200, reqId 277: No security definition has been found for the request, contract: Option(symbol='AAPL', lastTradeDateOrContractMonth='20221118', strike=122.0, right='P', exchange='SMART')\n",
      "Error 200, reqId 278: No security definition has been found for the request, contract: Option(symbol='AAPL', lastTradeDateOrContractMonth='20221118', strike=122.5, right='P', exchange='SMART')\n",
      "Error 200, reqId 279: No security definition has been found for the request, contract: Option(symbol='AAPL', lastTradeDateOrContractMonth='20221118', strike=123.0, right='P', exchange='SMART')\n",
      "Error 200, reqId 280: No security definition has been found for the request, contract: Option(symbol='AAPL', lastTradeDateOrContractMonth='20221118', strike=124.0, right='P', exchange='SMART')\n"
     ]
    },
    {
     "name": "stdout",
     "output_type": "stream",
     "text": [
      " >>> NOGOOD CONTRACT\n",
      " >>> NOGOOD CONTRACT\n",
      " >>> NOGOOD CONTRACT\n",
      " >>> NOGOOD CONTRACT\n"
     ]
    },
    {
     "name": "stderr",
     "output_type": "stream",
     "text": [
      "Error 200, reqId 282: No security definition has been found for the request, contract: Option(symbol='AAPL', lastTradeDateOrContractMonth='20221118', strike=126.0, right='P', exchange='SMART')\n",
      "Error 200, reqId 283: No security definition has been found for the request, contract: Option(symbol='AAPL', lastTradeDateOrContractMonth='20221118', strike=127.0, right='P', exchange='SMART')\n",
      "Error 200, reqId 284: No security definition has been found for the request, contract: Option(symbol='AAPL', lastTradeDateOrContractMonth='20221118', strike=128.0, right='P', exchange='SMART')\n",
      "Error 200, reqId 285: No security definition has been found for the request, contract: Option(symbol='AAPL', lastTradeDateOrContractMonth='20221118', strike=129.0, right='P', exchange='SMART')\n"
     ]
    },
    {
     "name": "stdout",
     "output_type": "stream",
     "text": [
      " >>> NOGOOD CONTRACT\n",
      " >>> NOGOOD CONTRACT\n",
      " >>> NOGOOD CONTRACT\n",
      " >>> NOGOOD CONTRACT\n"
     ]
    },
    {
     "name": "stderr",
     "output_type": "stream",
     "text": [
      "Error 200, reqId 287: No security definition has been found for the request, contract: Option(symbol='AAPL', lastTradeDateOrContractMonth='20221118', strike=131.0, right='P', exchange='SMART')\n",
      "Error 200, reqId 288: No security definition has been found for the request, contract: Option(symbol='AAPL', lastTradeDateOrContractMonth='20221118', strike=132.0, right='P', exchange='SMART')\n",
      "Error 200, reqId 289: No security definition has been found for the request, contract: Option(symbol='AAPL', lastTradeDateOrContractMonth='20221118', strike=133.0, right='P', exchange='SMART')\n",
      "Error 200, reqId 290: No security definition has been found for the request, contract: Option(symbol='AAPL', lastTradeDateOrContractMonth='20221118', strike=134.0, right='P', exchange='SMART')\n"
     ]
    },
    {
     "name": "stdout",
     "output_type": "stream",
     "text": [
      " >>> NOGOOD CONTRACT\n",
      " >>> NOGOOD CONTRACT\n",
      " >>> NOGOOD CONTRACT\n",
      " >>> NOGOOD CONTRACT\n"
     ]
    },
    {
     "name": "stderr",
     "output_type": "stream",
     "text": [
      "Error 200, reqId 292: No security definition has been found for the request, contract: Option(symbol='AAPL', lastTradeDateOrContractMonth='20221118', strike=136.0, right='P', exchange='SMART')\n",
      "Error 200, reqId 293: No security definition has been found for the request, contract: Option(symbol='AAPL', lastTradeDateOrContractMonth='20221118', strike=137.0, right='P', exchange='SMART')\n"
     ]
    },
    {
     "name": "stdout",
     "output_type": "stream",
     "text": [
      " >>> NOGOOD CONTRACT\n",
      " >>> NOGOOD CONTRACT\n"
     ]
    },
    {
     "name": "stderr",
     "output_type": "stream",
     "text": [
      "Error 200, reqId 294: No security definition has been found for the request, contract: Option(symbol='AAPL', lastTradeDateOrContractMonth='20221118', strike=138.0, right='P', exchange='SMART')\n",
      "Error 200, reqId 295: No security definition has been found for the request, contract: Option(symbol='AAPL', lastTradeDateOrContractMonth='20221118', strike=139.0, right='P', exchange='SMART')\n"
     ]
    },
    {
     "name": "stdout",
     "output_type": "stream",
     "text": [
      " >>> NOGOOD CONTRACT\n",
      " >>> NOGOOD CONTRACT\n"
     ]
    },
    {
     "name": "stderr",
     "output_type": "stream",
     "text": [
      "Error 200, reqId 297: No security definition has been found for the request, contract: Option(symbol='AAPL', lastTradeDateOrContractMonth='20221118', strike=141.0, right='P', exchange='SMART')\n",
      "Error 200, reqId 298: No security definition has been found for the request, contract: Option(symbol='AAPL', lastTradeDateOrContractMonth='20221118', strike=142.0, right='P', exchange='SMART')\n",
      "Error 200, reqId 299: No security definition has been found for the request, contract: Option(symbol='AAPL', lastTradeDateOrContractMonth='20221118', strike=143.0, right='P', exchange='SMART')\n"
     ]
    },
    {
     "name": "stdout",
     "output_type": "stream",
     "text": [
      " >>> NOGOOD CONTRACT\n",
      " >>> NOGOOD CONTRACT\n",
      " >>> NOGOOD CONTRACT\n"
     ]
    },
    {
     "name": "stderr",
     "output_type": "stream",
     "text": [
      "Error 200, reqId 300: No security definition has been found for the request, contract: Option(symbol='AAPL', lastTradeDateOrContractMonth='20221118', strike=144.0, right='P', exchange='SMART')\n"
     ]
    },
    {
     "name": "stdout",
     "output_type": "stream",
     "text": [
      " >>> NOGOOD CONTRACT\n"
     ]
    },
    {
     "name": "stderr",
     "output_type": "stream",
     "text": [
      "Error 200, reqId 302: No security definition has been found for the request, contract: Option(symbol='AAPL', lastTradeDateOrContractMonth='20221118', strike=146.0, right='P', exchange='SMART')\n",
      "Error 200, reqId 303: No security definition has been found for the request, contract: Option(symbol='AAPL', lastTradeDateOrContractMonth='20221118', strike=147.0, right='P', exchange='SMART')\n",
      "Error 200, reqId 304: No security definition has been found for the request, contract: Option(symbol='AAPL', lastTradeDateOrContractMonth='20221118', strike=148.0, right='P', exchange='SMART')\n",
      "Error 200, reqId 305: No security definition has been found for the request, contract: Option(symbol='AAPL', lastTradeDateOrContractMonth='20221118', strike=149.0, right='P', exchange='SMART')\n"
     ]
    },
    {
     "name": "stdout",
     "output_type": "stream",
     "text": [
      " >>> NOGOOD CONTRACT\n",
      " >>> NOGOOD CONTRACT\n",
      " >>> NOGOOD CONTRACT\n",
      " >>> NOGOOD CONTRACT\n"
     ]
    },
    {
     "name": "stderr",
     "output_type": "stream",
     "text": [
      "Error 200, reqId 307: No security definition has been found for the request, contract: Option(symbol='AAPL', lastTradeDateOrContractMonth='20221118', strike=152.5, right='P', exchange='SMART')\n"
     ]
    },
    {
     "name": "stdout",
     "output_type": "stream",
     "text": [
      " >>> NOGOOD CONTRACT\n"
     ]
    },
    {
     "name": "stderr",
     "output_type": "stream",
     "text": [
      "Error 200, reqId 309: No security definition has been found for the request, contract: Option(symbol='AAPL', lastTradeDateOrContractMonth='20221118', strike=157.5, right='P', exchange='SMART')\n"
     ]
    },
    {
     "name": "stdout",
     "output_type": "stream",
     "text": [
      " >>> NOGOOD CONTRACT\n"
     ]
    },
    {
     "name": "stderr",
     "output_type": "stream",
     "text": [
      "Error 200, reqId 311: No security definition has been found for the request, contract: Option(symbol='AAPL', lastTradeDateOrContractMonth='20221118', strike=162.5, right='P', exchange='SMART')\n"
     ]
    },
    {
     "name": "stdout",
     "output_type": "stream",
     "text": [
      " >>> NOGOOD CONTRACT\n"
     ]
    },
    {
     "name": "stderr",
     "output_type": "stream",
     "text": [
      "Error 200, reqId 320: No security definition has been found for the request, contract: Option(symbol='AAPL', lastTradeDateOrContractMonth='20221118', strike=205.0, right='P', exchange='SMART')\n"
     ]
    },
    {
     "name": "stdout",
     "output_type": "stream",
     "text": [
      " >>> NOGOOD CONTRACT\n"
     ]
    },
    {
     "name": "stderr",
     "output_type": "stream",
     "text": [
      "Error 200, reqId 322: No security definition has been found for the request, contract: Option(symbol='AAPL', lastTradeDateOrContractMonth='20221118', strike=215.0, right='P', exchange='SMART')\n"
     ]
    },
    {
     "name": "stdout",
     "output_type": "stream",
     "text": [
      " >>> NOGOOD CONTRACT\n"
     ]
    },
    {
     "name": "stderr",
     "output_type": "stream",
     "text": [
      "Error 200, reqId 324: No security definition has been found for the request, contract: Option(symbol='AAPL', lastTradeDateOrContractMonth='20221118', strike=225.0, right='P', exchange='SMART')\n"
     ]
    },
    {
     "name": "stdout",
     "output_type": "stream",
     "text": [
      " >>> NOGOOD CONTRACT\n"
     ]
    },
    {
     "name": "stderr",
     "output_type": "stream",
     "text": [
      "Error 200, reqId 326: No security definition has been found for the request, contract: Option(symbol='AAPL', lastTradeDateOrContractMonth='20221118', strike=235.0, right='P', exchange='SMART')\n"
     ]
    },
    {
     "name": "stdout",
     "output_type": "stream",
     "text": [
      " >>> NOGOOD CONTRACT\n"
     ]
    },
    {
     "name": "stderr",
     "output_type": "stream",
     "text": [
      "Error 200, reqId 328: No security definition has been found for the request, contract: Option(symbol='AAPL', lastTradeDateOrContractMonth='20221118', strike=245.0, right='P', exchange='SMART')\n"
     ]
    },
    {
     "name": "stdout",
     "output_type": "stream",
     "text": [
      " >>> NOGOOD CONTRACT\n"
     ]
    },
    {
     "name": "stderr",
     "output_type": "stream",
     "text": [
      "Error 200, reqId 330: No security definition has been found for the request, contract: Option(symbol='AAPL', lastTradeDateOrContractMonth='20221118', strike=255.0, right='P', exchange='SMART')\n"
     ]
    },
    {
     "name": "stdout",
     "output_type": "stream",
     "text": [
      " >>> NOGOOD CONTRACT\n"
     ]
    },
    {
     "name": "stderr",
     "output_type": "stream",
     "text": [
      "Error 200, reqId 332: No security definition has been found for the request, contract: Option(symbol='AAPL', lastTradeDateOrContractMonth='20221118', strike=265.0, right='P', exchange='SMART')\n"
     ]
    },
    {
     "name": "stdout",
     "output_type": "stream",
     "text": [
      " >>> NOGOOD CONTRACT\n"
     ]
    },
    {
     "name": "stderr",
     "output_type": "stream",
     "text": [
      "Error 200, reqId 334: No security definition has been found for the request, contract: Option(symbol='AAPL', lastTradeDateOrContractMonth='20221118', strike=275.0, right='P', exchange='SMART')\n"
     ]
    },
    {
     "name": "stdout",
     "output_type": "stream",
     "text": [
      " >>> NOGOOD CONTRACT\n"
     ]
    },
    {
     "name": "stderr",
     "output_type": "stream",
     "text": [
      "Error 200, reqId 336: No security definition has been found for the request, contract: Option(symbol='AAPL', lastTradeDateOrContractMonth='20221118', strike=285.0, right='P', exchange='SMART')\n"
     ]
    },
    {
     "name": "stdout",
     "output_type": "stream",
     "text": [
      " >>> NOGOOD CONTRACT\n"
     ]
    },
    {
     "name": "stderr",
     "output_type": "stream",
     "text": [
      "Error 200, reqId 339: No security definition has been found for the request, contract: Option(symbol='AAPL', lastTradeDateOrContractMonth='20221118', strike=310.0, right='P', exchange='SMART')\n",
      "Error 200, reqId 340: No security definition has been found for the request, contract: Option(symbol='AAPL', lastTradeDateOrContractMonth='20221118', strike=320.0, right='P', exchange='SMART')\n"
     ]
    },
    {
     "name": "stdout",
     "output_type": "stream",
     "text": [
      " >>> NOGOOD CONTRACT\n",
      " >>> NOGOOD CONTRACT\n"
     ]
    },
    {
     "name": "stderr",
     "output_type": "stream",
     "text": [
      "Error 200, reqId 344: No security definition has been found for the request, contract: Option(symbol='AAPL', lastTradeDateOrContractMonth='20220819', strike=41.25, right='C', exchange='SMART')\n",
      "Error 200, reqId 345: No security definition has been found for the request, contract: Option(symbol='AAPL', lastTradeDateOrContractMonth='20220819', strike=42.5, right='C', exchange='SMART')\n",
      "Error 200, reqId 346: No security definition has been found for the request, contract: Option(symbol='AAPL', lastTradeDateOrContractMonth='20220819', strike=43.75, right='C', exchange='SMART')\n"
     ]
    },
    {
     "name": "stdout",
     "output_type": "stream",
     "text": [
      " >>> NOGOOD CONTRACT\n",
      " >>> NOGOOD CONTRACT\n",
      " >>> NOGOOD CONTRACT\n"
     ]
    },
    {
     "name": "stderr",
     "output_type": "stream",
     "text": [
      "Error 200, reqId 348: No security definition has been found for the request, contract: Option(symbol='AAPL', lastTradeDateOrContractMonth='20220819', strike=46.25, right='C', exchange='SMART')\n",
      "Error 200, reqId 349: No security definition has been found for the request, contract: Option(symbol='AAPL', lastTradeDateOrContractMonth='20220819', strike=47.5, right='C', exchange='SMART')\n",
      "Error 200, reqId 350: No security definition has been found for the request, contract: Option(symbol='AAPL', lastTradeDateOrContractMonth='20220819', strike=48.75, right='C', exchange='SMART')\n"
     ]
    },
    {
     "name": "stdout",
     "output_type": "stream",
     "text": [
      " >>> NOGOOD CONTRACT\n",
      " >>> NOGOOD CONTRACT\n",
      " >>> NOGOOD CONTRACT\n"
     ]
    },
    {
     "name": "stderr",
     "output_type": "stream",
     "text": [
      "Error 200, reqId 352: No security definition has been found for the request, contract: Option(symbol='AAPL', lastTradeDateOrContractMonth='20220819', strike=52.5, right='C', exchange='SMART')\n"
     ]
    },
    {
     "name": "stdout",
     "output_type": "stream",
     "text": [
      " >>> NOGOOD CONTRACT\n"
     ]
    },
    {
     "name": "stderr",
     "output_type": "stream",
     "text": [
      "Error 200, reqId 354: No security definition has been found for the request, contract: Option(symbol='AAPL', lastTradeDateOrContractMonth='20220819', strike=57.5, right='C', exchange='SMART')\n"
     ]
    },
    {
     "name": "stdout",
     "output_type": "stream",
     "text": [
      " >>> NOGOOD CONTRACT\n"
     ]
    },
    {
     "name": "stderr",
     "output_type": "stream",
     "text": [
      "Error 200, reqId 356: No security definition has been found for the request, contract: Option(symbol='AAPL', lastTradeDateOrContractMonth='20220819', strike=62.5, right='C', exchange='SMART')\n"
     ]
    },
    {
     "name": "stdout",
     "output_type": "stream",
     "text": [
      " >>> NOGOOD CONTRACT\n"
     ]
    },
    {
     "name": "stderr",
     "output_type": "stream",
     "text": [
      "Error 200, reqId 358: No security definition has been found for the request, contract: Option(symbol='AAPL', lastTradeDateOrContractMonth='20220819', strike=67.5, right='C', exchange='SMART')\n"
     ]
    },
    {
     "name": "stdout",
     "output_type": "stream",
     "text": [
      " >>> NOGOOD CONTRACT\n"
     ]
    },
    {
     "name": "stderr",
     "output_type": "stream",
     "text": [
      "Error 200, reqId 360: No security definition has been found for the request, contract: Option(symbol='AAPL', lastTradeDateOrContractMonth='20220819', strike=72.5, right='C', exchange='SMART')\n"
     ]
    },
    {
     "name": "stdout",
     "output_type": "stream",
     "text": [
      " >>> NOGOOD CONTRACT\n"
     ]
    },
    {
     "name": "stderr",
     "output_type": "stream",
     "text": [
      "Error 200, reqId 362: No security definition has been found for the request, contract: Option(symbol='AAPL', lastTradeDateOrContractMonth='20220819', strike=76.25, right='C', exchange='SMART')\n",
      "Error 200, reqId 363: No security definition has been found for the request, contract: Option(symbol='AAPL', lastTradeDateOrContractMonth='20220819', strike=77.5, right='C', exchange='SMART')\n",
      "Error 200, reqId 364: No security definition has been found for the request, contract: Option(symbol='AAPL', lastTradeDateOrContractMonth='20220819', strike=78.75, right='C', exchange='SMART')\n"
     ]
    },
    {
     "name": "stdout",
     "output_type": "stream",
     "text": [
      " >>> NOGOOD CONTRACT\n",
      " >>> NOGOOD CONTRACT\n",
      " >>> NOGOOD CONTRACT\n"
     ]
    },
    {
     "name": "stderr",
     "output_type": "stream",
     "text": [
      "Error 200, reqId 366: No security definition has been found for the request, contract: Option(symbol='AAPL', lastTradeDateOrContractMonth='20220819', strike=81.25, right='C', exchange='SMART')\n",
      "Error 200, reqId 367: No security definition has been found for the request, contract: Option(symbol='AAPL', lastTradeDateOrContractMonth='20220819', strike=82.5, right='C', exchange='SMART')\n",
      "Error 200, reqId 368: No security definition has been found for the request, contract: Option(symbol='AAPL', lastTradeDateOrContractMonth='20220819', strike=83.75, right='C', exchange='SMART')\n"
     ]
    },
    {
     "name": "stdout",
     "output_type": "stream",
     "text": [
      " >>> NOGOOD CONTRACT\n",
      " >>> NOGOOD CONTRACT\n",
      " >>> NOGOOD CONTRACT\n"
     ]
    },
    {
     "name": "stderr",
     "output_type": "stream",
     "text": [
      "Error 200, reqId 370: No security definition has been found for the request, contract: Option(symbol='AAPL', lastTradeDateOrContractMonth='20220819', strike=86.25, right='C', exchange='SMART')\n"
     ]
    },
    {
     "name": "stdout",
     "output_type": "stream",
     "text": [
      " >>> NOGOOD CONTRACT\n"
     ]
    },
    {
     "name": "stderr",
     "output_type": "stream",
     "text": [
      "Error 200, reqId 371: No security definition has been found for the request, contract: Option(symbol='AAPL', lastTradeDateOrContractMonth='20220819', strike=87.5, right='C', exchange='SMART')\n"
     ]
    },
    {
     "name": "stdout",
     "output_type": "stream",
     "text": [
      " >>> NOGOOD CONTRACT\n"
     ]
    },
    {
     "name": "stderr",
     "output_type": "stream",
     "text": [
      "Error 200, reqId 373: No security definition has been found for the request, contract: Option(symbol='AAPL', lastTradeDateOrContractMonth='20220819', strike=92.5, right='C', exchange='SMART')\n"
     ]
    },
    {
     "name": "stdout",
     "output_type": "stream",
     "text": [
      " >>> NOGOOD CONTRACT\n"
     ]
    },
    {
     "name": "stderr",
     "output_type": "stream",
     "text": [
      "Error 200, reqId 375: No security definition has been found for the request, contract: Option(symbol='AAPL', lastTradeDateOrContractMonth='20220819', strike=97.5, right='C', exchange='SMART')\n"
     ]
    },
    {
     "name": "stdout",
     "output_type": "stream",
     "text": [
      " >>> NOGOOD CONTRACT\n"
     ]
    },
    {
     "name": "stderr",
     "output_type": "stream",
     "text": [
      "Error 200, reqId 377: No security definition has been found for the request, contract: Option(symbol='AAPL', lastTradeDateOrContractMonth='20220819', strike=102.5, right='C', exchange='SMART')\n"
     ]
    },
    {
     "name": "stdout",
     "output_type": "stream",
     "text": [
      " >>> NOGOOD CONTRACT\n"
     ]
    },
    {
     "name": "stderr",
     "output_type": "stream",
     "text": [
      "Error 200, reqId 379: No security definition has been found for the request, contract: Option(symbol='AAPL', lastTradeDateOrContractMonth='20220819', strike=107.5, right='C', exchange='SMART')\n"
     ]
    },
    {
     "name": "stdout",
     "output_type": "stream",
     "text": [
      " >>> NOGOOD CONTRACT\n"
     ]
    },
    {
     "name": "stderr",
     "output_type": "stream",
     "text": [
      "Error 200, reqId 381: No security definition has been found for the request, contract: Option(symbol='AAPL', lastTradeDateOrContractMonth='20220819', strike=112.5, right='C', exchange='SMART')\n"
     ]
    },
    {
     "name": "stdout",
     "output_type": "stream",
     "text": [
      " >>> NOGOOD CONTRACT\n"
     ]
    },
    {
     "name": "stderr",
     "output_type": "stream",
     "text": [
      "Error 200, reqId 383: No security definition has been found for the request, contract: Option(symbol='AAPL', lastTradeDateOrContractMonth='20220819', strike=117.0, right='C', exchange='SMART')\n",
      "Error 200, reqId 384: No security definition has been found for the request, contract: Option(symbol='AAPL', lastTradeDateOrContractMonth='20220819', strike=117.5, right='C', exchange='SMART')\n",
      "Error 200, reqId 385: No security definition has been found for the request, contract: Option(symbol='AAPL', lastTradeDateOrContractMonth='20220819', strike=118.0, right='C', exchange='SMART')\n",
      "Error 200, reqId 386: No security definition has been found for the request, contract: Option(symbol='AAPL', lastTradeDateOrContractMonth='20220819', strike=119.0, right='C', exchange='SMART')\n"
     ]
    },
    {
     "name": "stdout",
     "output_type": "stream",
     "text": [
      " >>> NOGOOD CONTRACT\n",
      " >>> NOGOOD CONTRACT\n",
      " >>> NOGOOD CONTRACT\n",
      " >>> NOGOOD CONTRACT\n"
     ]
    },
    {
     "name": "stderr",
     "output_type": "stream",
     "text": [
      "Error 200, reqId 388: No security definition has been found for the request, contract: Option(symbol='AAPL', lastTradeDateOrContractMonth='20220819', strike=121.0, right='C', exchange='SMART')\n",
      "Error 200, reqId 389: No security definition has been found for the request, contract: Option(symbol='AAPL', lastTradeDateOrContractMonth='20220819', strike=122.0, right='C', exchange='SMART')\n",
      "Error 200, reqId 390: No security definition has been found for the request, contract: Option(symbol='AAPL', lastTradeDateOrContractMonth='20220819', strike=122.5, right='C', exchange='SMART')\n"
     ]
    },
    {
     "name": "stdout",
     "output_type": "stream",
     "text": [
      " >>> NOGOOD CONTRACT\n",
      " >>> NOGOOD CONTRACT\n",
      " >>> NOGOOD CONTRACT\n"
     ]
    },
    {
     "name": "stderr",
     "output_type": "stream",
     "text": [
      "Error 200, reqId 391: No security definition has been found for the request, contract: Option(symbol='AAPL', lastTradeDateOrContractMonth='20220819', strike=123.0, right='C', exchange='SMART')\n",
      "Error 200, reqId 392: No security definition has been found for the request, contract: Option(symbol='AAPL', lastTradeDateOrContractMonth='20220819', strike=124.0, right='C', exchange='SMART')\n"
     ]
    },
    {
     "name": "stdout",
     "output_type": "stream",
     "text": [
      " >>> NOGOOD CONTRACT\n",
      " >>> NOGOOD CONTRACT\n"
     ]
    },
    {
     "name": "stderr",
     "output_type": "stream",
     "text": [
      "Error 200, reqId 394: No security definition has been found for the request, contract: Option(symbol='AAPL', lastTradeDateOrContractMonth='20220819', strike=126.0, right='C', exchange='SMART')\n"
     ]
    },
    {
     "name": "stdout",
     "output_type": "stream",
     "text": [
      " >>> NOGOOD CONTRACT\n"
     ]
    },
    {
     "name": "stderr",
     "output_type": "stream",
     "text": [
      "Error 200, reqId 395: No security definition has been found for the request, contract: Option(symbol='AAPL', lastTradeDateOrContractMonth='20220819', strike=127.0, right='C', exchange='SMART')\n",
      "Error 200, reqId 396: No security definition has been found for the request, contract: Option(symbol='AAPL', lastTradeDateOrContractMonth='20220819', strike=128.0, right='C', exchange='SMART')\n",
      "Error 200, reqId 397: No security definition has been found for the request, contract: Option(symbol='AAPL', lastTradeDateOrContractMonth='20220819', strike=129.0, right='C', exchange='SMART')\n"
     ]
    },
    {
     "name": "stdout",
     "output_type": "stream",
     "text": [
      " >>> NOGOOD CONTRACT\n",
      " >>> NOGOOD CONTRACT\n",
      " >>> NOGOOD CONTRACT\n"
     ]
    },
    {
     "name": "stderr",
     "output_type": "stream",
     "text": [
      "Error 200, reqId 399: No security definition has been found for the request, contract: Option(symbol='AAPL', lastTradeDateOrContractMonth='20220819', strike=131.0, right='C', exchange='SMART')\n",
      "Error 200, reqId 400: No security definition has been found for the request, contract: Option(symbol='AAPL', lastTradeDateOrContractMonth='20220819', strike=132.0, right='C', exchange='SMART')\n",
      "Error 200, reqId 401: No security definition has been found for the request, contract: Option(symbol='AAPL', lastTradeDateOrContractMonth='20220819', strike=133.0, right='C', exchange='SMART')\n",
      "Error 200, reqId 402: No security definition has been found for the request, contract: Option(symbol='AAPL', lastTradeDateOrContractMonth='20220819', strike=134.0, right='C', exchange='SMART')\n"
     ]
    },
    {
     "name": "stdout",
     "output_type": "stream",
     "text": [
      " >>> NOGOOD CONTRACT\n",
      " >>> NOGOOD CONTRACT\n",
      " >>> NOGOOD CONTRACT\n",
      " >>> NOGOOD CONTRACT\n"
     ]
    },
    {
     "name": "stderr",
     "output_type": "stream",
     "text": [
      "Error 200, reqId 404: No security definition has been found for the request, contract: Option(symbol='AAPL', lastTradeDateOrContractMonth='20220819', strike=136.0, right='C', exchange='SMART')\n",
      "Error 200, reqId 405: No security definition has been found for the request, contract: Option(symbol='AAPL', lastTradeDateOrContractMonth='20220819', strike=137.0, right='C', exchange='SMART')\n",
      "Error 200, reqId 406: No security definition has been found for the request, contract: Option(symbol='AAPL', lastTradeDateOrContractMonth='20220819', strike=138.0, right='C', exchange='SMART')\n",
      "Error 200, reqId 407: No security definition has been found for the request, contract: Option(symbol='AAPL', lastTradeDateOrContractMonth='20220819', strike=139.0, right='C', exchange='SMART')\n"
     ]
    },
    {
     "name": "stdout",
     "output_type": "stream",
     "text": [
      " >>> NOGOOD CONTRACT\n",
      " >>> NOGOOD CONTRACT\n",
      " >>> NOGOOD CONTRACT\n",
      " >>> NOGOOD CONTRACT\n"
     ]
    },
    {
     "name": "stderr",
     "output_type": "stream",
     "text": [
      "Error 200, reqId 409: No security definition has been found for the request, contract: Option(symbol='AAPL', lastTradeDateOrContractMonth='20220819', strike=141.0, right='C', exchange='SMART')\n",
      "Error 200, reqId 410: No security definition has been found for the request, contract: Option(symbol='AAPL', lastTradeDateOrContractMonth='20220819', strike=142.0, right='C', exchange='SMART')\n",
      "Error 200, reqId 411: No security definition has been found for the request, contract: Option(symbol='AAPL', lastTradeDateOrContractMonth='20220819', strike=143.0, right='C', exchange='SMART')\n",
      "Error 200, reqId 412: No security definition has been found for the request, contract: Option(symbol='AAPL', lastTradeDateOrContractMonth='20220819', strike=144.0, right='C', exchange='SMART')\n"
     ]
    },
    {
     "name": "stdout",
     "output_type": "stream",
     "text": [
      " >>> NOGOOD CONTRACT\n",
      " >>> NOGOOD CONTRACT\n",
      " >>> NOGOOD CONTRACT\n",
      " >>> NOGOOD CONTRACT\n"
     ]
    },
    {
     "name": "stderr",
     "output_type": "stream",
     "text": [
      "Error 200, reqId 414: No security definition has been found for the request, contract: Option(symbol='AAPL', lastTradeDateOrContractMonth='20220819', strike=146.0, right='C', exchange='SMART')\n",
      "Error 200, reqId 415: No security definition has been found for the request, contract: Option(symbol='AAPL', lastTradeDateOrContractMonth='20220819', strike=147.0, right='C', exchange='SMART')\n",
      "Error 200, reqId 416: No security definition has been found for the request, contract: Option(symbol='AAPL', lastTradeDateOrContractMonth='20220819', strike=148.0, right='C', exchange='SMART')\n",
      "Error 200, reqId 417: No security definition has been found for the request, contract: Option(symbol='AAPL', lastTradeDateOrContractMonth='20220819', strike=149.0, right='C', exchange='SMART')\n"
     ]
    },
    {
     "name": "stdout",
     "output_type": "stream",
     "text": [
      " >>> NOGOOD CONTRACT\n",
      " >>> NOGOOD CONTRACT\n",
      " >>> NOGOOD CONTRACT\n",
      " >>> NOGOOD CONTRACT\n"
     ]
    },
    {
     "name": "stderr",
     "output_type": "stream",
     "text": [
      "Error 200, reqId 419: No security definition has been found for the request, contract: Option(symbol='AAPL', lastTradeDateOrContractMonth='20220819', strike=152.5, right='C', exchange='SMART')\n"
     ]
    },
    {
     "name": "stdout",
     "output_type": "stream",
     "text": [
      " >>> NOGOOD CONTRACT\n"
     ]
    },
    {
     "name": "stderr",
     "output_type": "stream",
     "text": [
      "Error 200, reqId 421: No security definition has been found for the request, contract: Option(symbol='AAPL', lastTradeDateOrContractMonth='20220819', strike=157.5, right='C', exchange='SMART')\n"
     ]
    },
    {
     "name": "stdout",
     "output_type": "stream",
     "text": [
      " >>> NOGOOD CONTRACT\n"
     ]
    },
    {
     "name": "stderr",
     "output_type": "stream",
     "text": [
      "Error 200, reqId 423: No security definition has been found for the request, contract: Option(symbol='AAPL', lastTradeDateOrContractMonth='20220819', strike=162.5, right='C', exchange='SMART')\n"
     ]
    },
    {
     "name": "stdout",
     "output_type": "stream",
     "text": [
      " >>> NOGOOD CONTRACT\n"
     ]
    },
    {
     "name": "stderr",
     "output_type": "stream",
     "text": [
      "Error 200, reqId 444: No security definition has been found for the request, contract: Option(symbol='AAPL', lastTradeDateOrContractMonth='20220819', strike=265.0, right='C', exchange='SMART')\n",
      "Error 200, reqId 445: No security definition has been found for the request, contract: Option(symbol='AAPL', lastTradeDateOrContractMonth='20220819', strike=270.0, right='C', exchange='SMART')\n",
      "Error 200, reqId 446: No security definition has been found for the request, contract: Option(symbol='AAPL', lastTradeDateOrContractMonth='20220819', strike=275.0, right='C', exchange='SMART')\n",
      "Error 200, reqId 447: No security definition has been found for the request, contract: Option(symbol='AAPL', lastTradeDateOrContractMonth='20220819', strike=280.0, right='C', exchange='SMART')\n"
     ]
    },
    {
     "name": "stdout",
     "output_type": "stream",
     "text": [
      " >>> NOGOOD CONTRACT\n",
      " >>> NOGOOD CONTRACT\n",
      " >>> NOGOOD CONTRACT\n",
      " >>> NOGOOD CONTRACT\n"
     ]
    },
    {
     "name": "stderr",
     "output_type": "stream",
     "text": [
      "Error 200, reqId 448: No security definition has been found for the request, contract: Option(symbol='AAPL', lastTradeDateOrContractMonth='20220819', strike=285.0, right='C', exchange='SMART')\n"
     ]
    },
    {
     "name": "stdout",
     "output_type": "stream",
     "text": [
      " >>> NOGOOD CONTRACT\n"
     ]
    },
    {
     "name": "stderr",
     "output_type": "stream",
     "text": [
      "Error 200, reqId 449: No security definition has been found for the request, contract: Option(symbol='AAPL', lastTradeDateOrContractMonth='20220819', strike=290.0, right='C', exchange='SMART')\n",
      "Error 200, reqId 450: No security definition has been found for the request, contract: Option(symbol='AAPL', lastTradeDateOrContractMonth='20220819', strike=300.0, right='C', exchange='SMART')\n",
      "Error 200, reqId 451: No security definition has been found for the request, contract: Option(symbol='AAPL', lastTradeDateOrContractMonth='20220819', strike=310.0, right='C', exchange='SMART')\n",
      "Error 200, reqId 452: No security definition has been found for the request, contract: Option(symbol='AAPL', lastTradeDateOrContractMonth='20220819', strike=320.0, right='C', exchange='SMART')\n"
     ]
    },
    {
     "name": "stdout",
     "output_type": "stream",
     "text": [
      " >>> NOGOOD CONTRACT\n",
      " >>> NOGOOD CONTRACT\n",
      " >>> NOGOOD CONTRACT\n",
      " >>> NOGOOD CONTRACT\n"
     ]
    },
    {
     "name": "stderr",
     "output_type": "stream",
     "text": [
      "Error 200, reqId 453: No security definition has been found for the request, contract: Option(symbol='AAPL', lastTradeDateOrContractMonth='20221021', strike=30.0, right='C', exchange='SMART')\n",
      "Error 200, reqId 454: No security definition has been found for the request, contract: Option(symbol='AAPL', lastTradeDateOrContractMonth='20221021', strike=35.0, right='C', exchange='SMART')\n"
     ]
    },
    {
     "name": "stdout",
     "output_type": "stream",
     "text": [
      " >>> NOGOOD CONTRACT\n",
      " >>> NOGOOD CONTRACT\n"
     ]
    },
    {
     "name": "stderr",
     "output_type": "stream",
     "text": [
      "Error 200, reqId 455: No security definition has been found for the request, contract: Option(symbol='AAPL', lastTradeDateOrContractMonth='20221021', strike=40.0, right='C', exchange='SMART')\n",
      "Error 200, reqId 456: No security definition has been found for the request, contract: Option(symbol='AAPL', lastTradeDateOrContractMonth='20221021', strike=41.25, right='C', exchange='SMART')\n",
      "Error 200, reqId 457: No security definition has been found for the request, contract: Option(symbol='AAPL', lastTradeDateOrContractMonth='20221021', strike=42.5, right='C', exchange='SMART')\n",
      "Error 200, reqId 458: No security definition has been found for the request, contract: Option(symbol='AAPL', lastTradeDateOrContractMonth='20221021', strike=43.75, right='C', exchange='SMART')\n"
     ]
    },
    {
     "name": "stdout",
     "output_type": "stream",
     "text": [
      " >>> NOGOOD CONTRACT\n",
      " >>> NOGOOD CONTRACT\n",
      " >>> NOGOOD CONTRACT\n",
      " >>> NOGOOD CONTRACT\n"
     ]
    },
    {
     "name": "stderr",
     "output_type": "stream",
     "text": [
      "Error 200, reqId 459: No security definition has been found for the request, contract: Option(symbol='AAPL', lastTradeDateOrContractMonth='20221021', strike=45.0, right='C', exchange='SMART')\n",
      "Error 200, reqId 460: No security definition has been found for the request, contract: Option(symbol='AAPL', lastTradeDateOrContractMonth='20221021', strike=46.25, right='C', exchange='SMART')\n"
     ]
    },
    {
     "name": "stdout",
     "output_type": "stream",
     "text": [
      " >>> NOGOOD CONTRACT\n",
      " >>> NOGOOD CONTRACT\n"
     ]
    },
    {
     "name": "stderr",
     "output_type": "stream",
     "text": [
      "Error 200, reqId 461: No security definition has been found for the request, contract: Option(symbol='AAPL', lastTradeDateOrContractMonth='20221021', strike=47.5, right='C', exchange='SMART')\n",
      "Error 200, reqId 462: No security definition has been found for the request, contract: Option(symbol='AAPL', lastTradeDateOrContractMonth='20221021', strike=48.75, right='C', exchange='SMART')\n"
     ]
    },
    {
     "name": "stdout",
     "output_type": "stream",
     "text": [
      " >>> NOGOOD CONTRACT\n",
      " >>> NOGOOD CONTRACT\n"
     ]
    },
    {
     "name": "stderr",
     "output_type": "stream",
     "text": [
      "Error 200, reqId 464: No security definition has been found for the request, contract: Option(symbol='AAPL', lastTradeDateOrContractMonth='20221021', strike=52.5, right='C', exchange='SMART')\n",
      "Error 200, reqId 465: No security definition has been found for the request, contract: Option(symbol='AAPL', lastTradeDateOrContractMonth='20221021', strike=55.0, right='C', exchange='SMART')\n",
      "Error 200, reqId 466: No security definition has been found for the request, contract: Option(symbol='AAPL', lastTradeDateOrContractMonth='20221021', strike=57.5, right='C', exchange='SMART')\n"
     ]
    },
    {
     "name": "stdout",
     "output_type": "stream",
     "text": [
      " >>> NOGOOD CONTRACT\n",
      " >>> NOGOOD CONTRACT\n",
      " >>> NOGOOD CONTRACT\n"
     ]
    },
    {
     "name": "stderr",
     "output_type": "stream",
     "text": [
      "Error 200, reqId 468: No security definition has been found for the request, contract: Option(symbol='AAPL', lastTradeDateOrContractMonth='20221021', strike=62.5, right='C', exchange='SMART')\n",
      "Error 200, reqId 469: No security definition has been found for the request, contract: Option(symbol='AAPL', lastTradeDateOrContractMonth='20221021', strike=65.0, right='C', exchange='SMART')\n",
      "Error 200, reqId 470: No security definition has been found for the request, contract: Option(symbol='AAPL', lastTradeDateOrContractMonth='20221021', strike=67.5, right='C', exchange='SMART')\n"
     ]
    },
    {
     "name": "stdout",
     "output_type": "stream",
     "text": [
      " >>> NOGOOD CONTRACT\n",
      " >>> NOGOOD CONTRACT\n",
      " >>> NOGOOD CONTRACT\n"
     ]
    },
    {
     "name": "stderr",
     "output_type": "stream",
     "text": [
      "Error 200, reqId 472: No security definition has been found for the request, contract: Option(symbol='AAPL', lastTradeDateOrContractMonth='20221021', strike=72.5, right='C', exchange='SMART')\n"
     ]
    },
    {
     "name": "stdout",
     "output_type": "stream",
     "text": [
      " >>> NOGOOD CONTRACT\n"
     ]
    },
    {
     "name": "stderr",
     "output_type": "stream",
     "text": [
      "Error 200, reqId 474: No security definition has been found for the request, contract: Option(symbol='AAPL', lastTradeDateOrContractMonth='20221021', strike=76.25, right='C', exchange='SMART')\n",
      "Error 200, reqId 475: No security definition has been found for the request, contract: Option(symbol='AAPL', lastTradeDateOrContractMonth='20221021', strike=77.5, right='C', exchange='SMART')\n"
     ]
    },
    {
     "name": "stdout",
     "output_type": "stream",
     "text": [
      " >>> NOGOOD CONTRACT\n",
      " >>> NOGOOD CONTRACT\n"
     ]
    },
    {
     "name": "stderr",
     "output_type": "stream",
     "text": [
      "Error 200, reqId 476: No security definition has been found for the request, contract: Option(symbol='AAPL', lastTradeDateOrContractMonth='20221021', strike=78.75, right='C', exchange='SMART')\n"
     ]
    },
    {
     "name": "stdout",
     "output_type": "stream",
     "text": [
      " >>> NOGOOD CONTRACT\n"
     ]
    },
    {
     "name": "stderr",
     "output_type": "stream",
     "text": [
      "Error 200, reqId 478: No security definition has been found for the request, contract: Option(symbol='AAPL', lastTradeDateOrContractMonth='20221021', strike=81.25, right='C', exchange='SMART')\n",
      "Error 200, reqId 479: No security definition has been found for the request, contract: Option(symbol='AAPL', lastTradeDateOrContractMonth='20221021', strike=82.5, right='C', exchange='SMART')\n",
      "Error 200, reqId 480: No security definition has been found for the request, contract: Option(symbol='AAPL', lastTradeDateOrContractMonth='20221021', strike=83.75, right='C', exchange='SMART')\n"
     ]
    },
    {
     "name": "stdout",
     "output_type": "stream",
     "text": [
      " >>> NOGOOD CONTRACT\n",
      " >>> NOGOOD CONTRACT\n",
      " >>> NOGOOD CONTRACT\n"
     ]
    },
    {
     "name": "stderr",
     "output_type": "stream",
     "text": [
      "Error 200, reqId 482: No security definition has been found for the request, contract: Option(symbol='AAPL', lastTradeDateOrContractMonth='20221021', strike=86.25, right='C', exchange='SMART')\n",
      "Error 200, reqId 483: No security definition has been found for the request, contract: Option(symbol='AAPL', lastTradeDateOrContractMonth='20221021', strike=87.5, right='C', exchange='SMART')\n"
     ]
    },
    {
     "name": "stdout",
     "output_type": "stream",
     "text": [
      " >>> NOGOOD CONTRACT\n",
      " >>> NOGOOD CONTRACT\n"
     ]
    },
    {
     "name": "stderr",
     "output_type": "stream",
     "text": [
      "Error 200, reqId 485: No security definition has been found for the request, contract: Option(symbol='AAPL', lastTradeDateOrContractMonth='20221021', strike=92.5, right='C', exchange='SMART')\n"
     ]
    },
    {
     "name": "stdout",
     "output_type": "stream",
     "text": [
      " >>> NOGOOD CONTRACT\n"
     ]
    },
    {
     "name": "stderr",
     "output_type": "stream",
     "text": [
      "Error 200, reqId 487: No security definition has been found for the request, contract: Option(symbol='AAPL', lastTradeDateOrContractMonth='20221021', strike=97.5, right='C', exchange='SMART')\n"
     ]
    },
    {
     "name": "stdout",
     "output_type": "stream",
     "text": [
      " >>> NOGOOD CONTRACT\n"
     ]
    },
    {
     "name": "stderr",
     "output_type": "stream",
     "text": [
      "Error 200, reqId 489: No security definition has been found for the request, contract: Option(symbol='AAPL', lastTradeDateOrContractMonth='20221021', strike=102.5, right='C', exchange='SMART')\n"
     ]
    },
    {
     "name": "stdout",
     "output_type": "stream",
     "text": [
      " >>> NOGOOD CONTRACT\n"
     ]
    },
    {
     "name": "stderr",
     "output_type": "stream",
     "text": [
      "Error 200, reqId 491: No security definition has been found for the request, contract: Option(symbol='AAPL', lastTradeDateOrContractMonth='20221021', strike=107.5, right='C', exchange='SMART')\n"
     ]
    },
    {
     "name": "stdout",
     "output_type": "stream",
     "text": [
      " >>> NOGOOD CONTRACT\n"
     ]
    },
    {
     "name": "stderr",
     "output_type": "stream",
     "text": [
      "Error 200, reqId 493: No security definition has been found for the request, contract: Option(symbol='AAPL', lastTradeDateOrContractMonth='20221021', strike=112.5, right='C', exchange='SMART')\n"
     ]
    },
    {
     "name": "stdout",
     "output_type": "stream",
     "text": [
      " >>> NOGOOD CONTRACT\n"
     ]
    },
    {
     "name": "stderr",
     "output_type": "stream",
     "text": [
      "Error 200, reqId 495: No security definition has been found for the request, contract: Option(symbol='AAPL', lastTradeDateOrContractMonth='20221021', strike=117.0, right='C', exchange='SMART')\n",
      "Error 200, reqId 496: No security definition has been found for the request, contract: Option(symbol='AAPL', lastTradeDateOrContractMonth='20221021', strike=117.5, right='C', exchange='SMART')\n",
      "Error 200, reqId 497: No security definition has been found for the request, contract: Option(symbol='AAPL', lastTradeDateOrContractMonth='20221021', strike=118.0, right='C', exchange='SMART')\n",
      "Error 200, reqId 498: No security definition has been found for the request, contract: Option(symbol='AAPL', lastTradeDateOrContractMonth='20221021', strike=119.0, right='C', exchange='SMART')\n"
     ]
    },
    {
     "name": "stdout",
     "output_type": "stream",
     "text": [
      " >>> NOGOOD CONTRACT\n",
      " >>> NOGOOD CONTRACT\n",
      " >>> NOGOOD CONTRACT\n",
      " >>> NOGOOD CONTRACT\n"
     ]
    },
    {
     "name": "stderr",
     "output_type": "stream",
     "text": [
      "Error 200, reqId 500: No security definition has been found for the request, contract: Option(symbol='AAPL', lastTradeDateOrContractMonth='20221021', strike=121.0, right='C', exchange='SMART')\n",
      "Error 200, reqId 501: No security definition has been found for the request, contract: Option(symbol='AAPL', lastTradeDateOrContractMonth='20221021', strike=122.0, right='C', exchange='SMART')\n",
      "Error 200, reqId 502: No security definition has been found for the request, contract: Option(symbol='AAPL', lastTradeDateOrContractMonth='20221021', strike=122.5, right='C', exchange='SMART')\n",
      "Error 200, reqId 503: No security definition has been found for the request, contract: Option(symbol='AAPL', lastTradeDateOrContractMonth='20221021', strike=123.0, right='C', exchange='SMART')\n"
     ]
    },
    {
     "name": "stdout",
     "output_type": "stream",
     "text": [
      " >>> NOGOOD CONTRACT\n",
      " >>> NOGOOD CONTRACT\n",
      " >>> NOGOOD CONTRACT\n",
      " >>> NOGOOD CONTRACT\n"
     ]
    },
    {
     "name": "stderr",
     "output_type": "stream",
     "text": [
      "Error 200, reqId 504: No security definition has been found for the request, contract: Option(symbol='AAPL', lastTradeDateOrContractMonth='20221021', strike=124.0, right='C', exchange='SMART')\n"
     ]
    },
    {
     "name": "stdout",
     "output_type": "stream",
     "text": [
      " >>> NOGOOD CONTRACT\n"
     ]
    },
    {
     "name": "stderr",
     "output_type": "stream",
     "text": [
      "Error 200, reqId 506: No security definition has been found for the request, contract: Option(symbol='AAPL', lastTradeDateOrContractMonth='20221021', strike=126.0, right='C', exchange='SMART')\n",
      "Error 200, reqId 507: No security definition has been found for the request, contract: Option(symbol='AAPL', lastTradeDateOrContractMonth='20221021', strike=127.0, right='C', exchange='SMART')\n",
      "Error 200, reqId 508: No security definition has been found for the request, contract: Option(symbol='AAPL', lastTradeDateOrContractMonth='20221021', strike=128.0, right='C', exchange='SMART')\n",
      "Error 200, reqId 509: No security definition has been found for the request, contract: Option(symbol='AAPL', lastTradeDateOrContractMonth='20221021', strike=129.0, right='C', exchange='SMART')\n"
     ]
    },
    {
     "name": "stdout",
     "output_type": "stream",
     "text": [
      " >>> NOGOOD CONTRACT\n",
      " >>> NOGOOD CONTRACT\n",
      " >>> NOGOOD CONTRACT\n",
      " >>> NOGOOD CONTRACT\n"
     ]
    },
    {
     "name": "stderr",
     "output_type": "stream",
     "text": [
      "Error 200, reqId 511: No security definition has been found for the request, contract: Option(symbol='AAPL', lastTradeDateOrContractMonth='20221021', strike=131.0, right='C', exchange='SMART')\n",
      "Error 200, reqId 512: No security definition has been found for the request, contract: Option(symbol='AAPL', lastTradeDateOrContractMonth='20221021', strike=132.0, right='C', exchange='SMART')\n",
      "Error 200, reqId 513: No security definition has been found for the request, contract: Option(symbol='AAPL', lastTradeDateOrContractMonth='20221021', strike=133.0, right='C', exchange='SMART')\n",
      "Error 200, reqId 514: No security definition has been found for the request, contract: Option(symbol='AAPL', lastTradeDateOrContractMonth='20221021', strike=134.0, right='C', exchange='SMART')\n"
     ]
    },
    {
     "name": "stdout",
     "output_type": "stream",
     "text": [
      " >>> NOGOOD CONTRACT\n",
      " >>> NOGOOD CONTRACT\n",
      " >>> NOGOOD CONTRACT\n",
      " >>> NOGOOD CONTRACT\n"
     ]
    },
    {
     "name": "stderr",
     "output_type": "stream",
     "text": [
      "Error 200, reqId 516: No security definition has been found for the request, contract: Option(symbol='AAPL', lastTradeDateOrContractMonth='20221021', strike=136.0, right='C', exchange='SMART')\n",
      "Error 200, reqId 517: No security definition has been found for the request, contract: Option(symbol='AAPL', lastTradeDateOrContractMonth='20221021', strike=137.0, right='C', exchange='SMART')\n",
      "Error 200, reqId 518: No security definition has been found for the request, contract: Option(symbol='AAPL', lastTradeDateOrContractMonth='20221021', strike=138.0, right='C', exchange='SMART')\n"
     ]
    },
    {
     "name": "stdout",
     "output_type": "stream",
     "text": [
      " >>> NOGOOD CONTRACT\n",
      " >>> NOGOOD CONTRACT\n",
      " >>> NOGOOD CONTRACT\n"
     ]
    },
    {
     "name": "stderr",
     "output_type": "stream",
     "text": [
      "Error 200, reqId 519: No security definition has been found for the request, contract: Option(symbol='AAPL', lastTradeDateOrContractMonth='20221021', strike=139.0, right='C', exchange='SMART')\n"
     ]
    },
    {
     "name": "stdout",
     "output_type": "stream",
     "text": [
      " >>> NOGOOD CONTRACT\n"
     ]
    },
    {
     "name": "stderr",
     "output_type": "stream",
     "text": [
      "Error 200, reqId 521: No security definition has been found for the request, contract: Option(symbol='AAPL', lastTradeDateOrContractMonth='20221021', strike=141.0, right='C', exchange='SMART')\n",
      "Error 200, reqId 522: No security definition has been found for the request, contract: Option(symbol='AAPL', lastTradeDateOrContractMonth='20221021', strike=142.0, right='C', exchange='SMART')\n",
      "Error 200, reqId 523: No security definition has been found for the request, contract: Option(symbol='AAPL', lastTradeDateOrContractMonth='20221021', strike=143.0, right='C', exchange='SMART')\n",
      "Error 200, reqId 524: No security definition has been found for the request, contract: Option(symbol='AAPL', lastTradeDateOrContractMonth='20221021', strike=144.0, right='C', exchange='SMART')\n"
     ]
    },
    {
     "name": "stdout",
     "output_type": "stream",
     "text": [
      " >>> NOGOOD CONTRACT\n",
      " >>> NOGOOD CONTRACT\n",
      " >>> NOGOOD CONTRACT\n",
      " >>> NOGOOD CONTRACT\n"
     ]
    },
    {
     "name": "stderr",
     "output_type": "stream",
     "text": [
      "Error 200, reqId 526: No security definition has been found for the request, contract: Option(symbol='AAPL', lastTradeDateOrContractMonth='20221021', strike=146.0, right='C', exchange='SMART')\n",
      "Error 200, reqId 527: No security definition has been found for the request, contract: Option(symbol='AAPL', lastTradeDateOrContractMonth='20221021', strike=147.0, right='C', exchange='SMART')\n",
      "Error 200, reqId 528: No security definition has been found for the request, contract: Option(symbol='AAPL', lastTradeDateOrContractMonth='20221021', strike=148.0, right='C', exchange='SMART')\n",
      "Error 200, reqId 529: No security definition has been found for the request, contract: Option(symbol='AAPL', lastTradeDateOrContractMonth='20221021', strike=149.0, right='C', exchange='SMART')\n"
     ]
    },
    {
     "name": "stdout",
     "output_type": "stream",
     "text": [
      " >>> NOGOOD CONTRACT\n",
      " >>> NOGOOD CONTRACT\n",
      " >>> NOGOOD CONTRACT\n",
      " >>> NOGOOD CONTRACT\n"
     ]
    },
    {
     "name": "stderr",
     "output_type": "stream",
     "text": [
      "Error 200, reqId 531: No security definition has been found for the request, contract: Option(symbol='AAPL', lastTradeDateOrContractMonth='20221021', strike=152.5, right='C', exchange='SMART')\n"
     ]
    },
    {
     "name": "stdout",
     "output_type": "stream",
     "text": [
      " >>> NOGOOD CONTRACT\n"
     ]
    },
    {
     "name": "stderr",
     "output_type": "stream",
     "text": [
      "Error 200, reqId 533: No security definition has been found for the request, contract: Option(symbol='AAPL', lastTradeDateOrContractMonth='20221021', strike=157.5, right='C', exchange='SMART')\n"
     ]
    },
    {
     "name": "stdout",
     "output_type": "stream",
     "text": [
      " >>> NOGOOD CONTRACT\n"
     ]
    },
    {
     "name": "stderr",
     "output_type": "stream",
     "text": [
      "Error 200, reqId 535: No security definition has been found for the request, contract: Option(symbol='AAPL', lastTradeDateOrContractMonth='20221021', strike=162.5, right='C', exchange='SMART')\n"
     ]
    },
    {
     "name": "stdout",
     "output_type": "stream",
     "text": [
      " >>> NOGOOD CONTRACT\n"
     ]
    },
    {
     "name": "stderr",
     "output_type": "stream",
     "text": [
      "Error 200, reqId 558: No security definition has been found for the request, contract: Option(symbol='AAPL', lastTradeDateOrContractMonth='20221021', strike=275.0, right='C', exchange='SMART')\n"
     ]
    },
    {
     "name": "stdout",
     "output_type": "stream",
     "text": [
      " >>> NOGOOD CONTRACT\n"
     ]
    },
    {
     "name": "stderr",
     "output_type": "stream",
     "text": [
      "Error 200, reqId 560: No security definition has been found for the request, contract: Option(symbol='AAPL', lastTradeDateOrContractMonth='20221021', strike=285.0, right='C', exchange='SMART')\n"
     ]
    },
    {
     "name": "stdout",
     "output_type": "stream",
     "text": [
      " >>> NOGOOD CONTRACT\n"
     ]
    },
    {
     "name": "stderr",
     "output_type": "stream",
     "text": [
      "Error 200, reqId 563: No security definition has been found for the request, contract: Option(symbol='AAPL', lastTradeDateOrContractMonth='20221021', strike=310.0, right='C', exchange='SMART')\n",
      "Error 200, reqId 564: No security definition has been found for the request, contract: Option(symbol='AAPL', lastTradeDateOrContractMonth='20221021', strike=320.0, right='C', exchange='SMART')\n",
      "Error 200, reqId 565: No security definition has been found for the request, contract: Option(symbol='AAPL', lastTradeDateOrContractMonth='20221118', strike=30.0, right='C', exchange='SMART')\n"
     ]
    },
    {
     "name": "stdout",
     "output_type": "stream",
     "text": [
      " >>> NOGOOD CONTRACT\n",
      " >>> NOGOOD CONTRACT\n",
      " >>> NOGOOD CONTRACT\n"
     ]
    },
    {
     "name": "stderr",
     "output_type": "stream",
     "text": [
      "Error 200, reqId 566: No security definition has been found for the request, contract: Option(symbol='AAPL', lastTradeDateOrContractMonth='20221118', strike=35.0, right='C', exchange='SMART')\n",
      "Error 200, reqId 567: No security definition has been found for the request, contract: Option(symbol='AAPL', lastTradeDateOrContractMonth='20221118', strike=40.0, right='C', exchange='SMART')\n",
      "Error 200, reqId 568: No security definition has been found for the request, contract: Option(symbol='AAPL', lastTradeDateOrContractMonth='20221118', strike=41.25, right='C', exchange='SMART')\n",
      "Error 200, reqId 569: No security definition has been found for the request, contract: Option(symbol='AAPL', lastTradeDateOrContractMonth='20221118', strike=42.5, right='C', exchange='SMART')\n"
     ]
    },
    {
     "name": "stdout",
     "output_type": "stream",
     "text": [
      " >>> NOGOOD CONTRACT\n",
      " >>> NOGOOD CONTRACT\n",
      " >>> NOGOOD CONTRACT\n",
      " >>> NOGOOD CONTRACT\n"
     ]
    },
    {
     "name": "stderr",
     "output_type": "stream",
     "text": [
      "Error 200, reqId 570: No security definition has been found for the request, contract: Option(symbol='AAPL', lastTradeDateOrContractMonth='20221118', strike=43.75, right='C', exchange='SMART')\n",
      "Error 200, reqId 571: No security definition has been found for the request, contract: Option(symbol='AAPL', lastTradeDateOrContractMonth='20221118', strike=45.0, right='C', exchange='SMART')\n",
      "Error 200, reqId 572: No security definition has been found for the request, contract: Option(symbol='AAPL', lastTradeDateOrContractMonth='20221118', strike=46.25, right='C', exchange='SMART')\n",
      "Error 200, reqId 573: No security definition has been found for the request, contract: Option(symbol='AAPL', lastTradeDateOrContractMonth='20221118', strike=47.5, right='C', exchange='SMART')\n"
     ]
    },
    {
     "name": "stdout",
     "output_type": "stream",
     "text": [
      " >>> NOGOOD CONTRACT\n",
      " >>> NOGOOD CONTRACT\n",
      " >>> NOGOOD CONTRACT\n",
      " >>> NOGOOD CONTRACT\n"
     ]
    },
    {
     "name": "stderr",
     "output_type": "stream",
     "text": [
      "Error 200, reqId 574: No security definition has been found for the request, contract: Option(symbol='AAPL', lastTradeDateOrContractMonth='20221118', strike=48.75, right='C', exchange='SMART')\n"
     ]
    },
    {
     "name": "stdout",
     "output_type": "stream",
     "text": [
      " >>> NOGOOD CONTRACT\n"
     ]
    },
    {
     "name": "stderr",
     "output_type": "stream",
     "text": [
      "Error 200, reqId 576: No security definition has been found for the request, contract: Option(symbol='AAPL', lastTradeDateOrContractMonth='20221118', strike=52.5, right='C', exchange='SMART')\n"
     ]
    },
    {
     "name": "stdout",
     "output_type": "stream",
     "text": [
      " >>> NOGOOD CONTRACT\n"
     ]
    },
    {
     "name": "stderr",
     "output_type": "stream",
     "text": [
      "Error 200, reqId 577: No security definition has been found for the request, contract: Option(symbol='AAPL', lastTradeDateOrContractMonth='20221118', strike=55.0, right='C', exchange='SMART')\n",
      "Error 200, reqId 578: No security definition has been found for the request, contract: Option(symbol='AAPL', lastTradeDateOrContractMonth='20221118', strike=57.5, right='C', exchange='SMART')\n"
     ]
    },
    {
     "name": "stdout",
     "output_type": "stream",
     "text": [
      " >>> NOGOOD CONTRACT\n",
      " >>> NOGOOD CONTRACT\n"
     ]
    },
    {
     "name": "stderr",
     "output_type": "stream",
     "text": [
      "Error 200, reqId 580: No security definition has been found for the request, contract: Option(symbol='AAPL', lastTradeDateOrContractMonth='20221118', strike=62.5, right='C', exchange='SMART')\n",
      "Error 200, reqId 581: No security definition has been found for the request, contract: Option(symbol='AAPL', lastTradeDateOrContractMonth='20221118', strike=65.0, right='C', exchange='SMART')\n",
      "Error 200, reqId 582: No security definition has been found for the request, contract: Option(symbol='AAPL', lastTradeDateOrContractMonth='20221118', strike=67.5, right='C', exchange='SMART')\n"
     ]
    },
    {
     "name": "stdout",
     "output_type": "stream",
     "text": [
      " >>> NOGOOD CONTRACT\n",
      " >>> NOGOOD CONTRACT\n",
      " >>> NOGOOD CONTRACT\n"
     ]
    },
    {
     "name": "stderr",
     "output_type": "stream",
     "text": [
      "Error 200, reqId 584: No security definition has been found for the request, contract: Option(symbol='AAPL', lastTradeDateOrContractMonth='20221118', strike=72.5, right='C', exchange='SMART')\n"
     ]
    },
    {
     "name": "stdout",
     "output_type": "stream",
     "text": [
      " >>> NOGOOD CONTRACT\n"
     ]
    },
    {
     "name": "stderr",
     "output_type": "stream",
     "text": [
      "Error 200, reqId 586: No security definition has been found for the request, contract: Option(symbol='AAPL', lastTradeDateOrContractMonth='20221118', strike=76.25, right='C', exchange='SMART')\n"
     ]
    },
    {
     "name": "stdout",
     "output_type": "stream",
     "text": [
      " >>> NOGOOD CONTRACT\n"
     ]
    },
    {
     "name": "stderr",
     "output_type": "stream",
     "text": [
      "Error 200, reqId 587: No security definition has been found for the request, contract: Option(symbol='AAPL', lastTradeDateOrContractMonth='20221118', strike=77.5, right='C', exchange='SMART')\n",
      "Error 200, reqId 588: No security definition has been found for the request, contract: Option(symbol='AAPL', lastTradeDateOrContractMonth='20221118', strike=78.75, right='C', exchange='SMART')\n"
     ]
    },
    {
     "name": "stdout",
     "output_type": "stream",
     "text": [
      " >>> NOGOOD CONTRACT\n",
      " >>> NOGOOD CONTRACT\n"
     ]
    },
    {
     "name": "stderr",
     "output_type": "stream",
     "text": [
      "Error 200, reqId 590: No security definition has been found for the request, contract: Option(symbol='AAPL', lastTradeDateOrContractMonth='20221118', strike=81.25, right='C', exchange='SMART')\n",
      "Error 200, reqId 591: No security definition has been found for the request, contract: Option(symbol='AAPL', lastTradeDateOrContractMonth='20221118', strike=82.5, right='C', exchange='SMART')\n",
      "Error 200, reqId 592: No security definition has been found for the request, contract: Option(symbol='AAPL', lastTradeDateOrContractMonth='20221118', strike=83.75, right='C', exchange='SMART')\n"
     ]
    },
    {
     "name": "stdout",
     "output_type": "stream",
     "text": [
      " >>> NOGOOD CONTRACT\n",
      " >>> NOGOOD CONTRACT\n",
      " >>> NOGOOD CONTRACT\n"
     ]
    },
    {
     "name": "stderr",
     "output_type": "stream",
     "text": [
      "Error 200, reqId 594: No security definition has been found for the request, contract: Option(symbol='AAPL', lastTradeDateOrContractMonth='20221118', strike=86.25, right='C', exchange='SMART')\n"
     ]
    },
    {
     "name": "stdout",
     "output_type": "stream",
     "text": [
      " >>> NOGOOD CONTRACT\n"
     ]
    },
    {
     "name": "stderr",
     "output_type": "stream",
     "text": [
      "Error 200, reqId 595: No security definition has been found for the request, contract: Option(symbol='AAPL', lastTradeDateOrContractMonth='20221118', strike=87.5, right='C', exchange='SMART')\n"
     ]
    },
    {
     "name": "stdout",
     "output_type": "stream",
     "text": [
      " >>> NOGOOD CONTRACT\n"
     ]
    },
    {
     "name": "stderr",
     "output_type": "stream",
     "text": [
      "Error 200, reqId 597: No security definition has been found for the request, contract: Option(symbol='AAPL', lastTradeDateOrContractMonth='20221118', strike=92.5, right='C', exchange='SMART')\n"
     ]
    },
    {
     "name": "stdout",
     "output_type": "stream",
     "text": [
      " >>> NOGOOD CONTRACT\n"
     ]
    },
    {
     "name": "stderr",
     "output_type": "stream",
     "text": [
      "Error 200, reqId 599: No security definition has been found for the request, contract: Option(symbol='AAPL', lastTradeDateOrContractMonth='20221118', strike=97.5, right='C', exchange='SMART')\n"
     ]
    },
    {
     "name": "stdout",
     "output_type": "stream",
     "text": [
      " >>> NOGOOD CONTRACT\n"
     ]
    },
    {
     "name": "stderr",
     "output_type": "stream",
     "text": [
      "Error 200, reqId 601: No security definition has been found for the request, contract: Option(symbol='AAPL', lastTradeDateOrContractMonth='20221118', strike=102.5, right='C', exchange='SMART')\n"
     ]
    },
    {
     "name": "stdout",
     "output_type": "stream",
     "text": [
      " >>> NOGOOD CONTRACT\n"
     ]
    },
    {
     "name": "stderr",
     "output_type": "stream",
     "text": [
      "Error 200, reqId 603: No security definition has been found for the request, contract: Option(symbol='AAPL', lastTradeDateOrContractMonth='20221118', strike=107.5, right='C', exchange='SMART')\n"
     ]
    },
    {
     "name": "stdout",
     "output_type": "stream",
     "text": [
      " >>> NOGOOD CONTRACT\n"
     ]
    },
    {
     "name": "stderr",
     "output_type": "stream",
     "text": [
      "Error 200, reqId 605: No security definition has been found for the request, contract: Option(symbol='AAPL', lastTradeDateOrContractMonth='20221118', strike=112.5, right='C', exchange='SMART')\n"
     ]
    },
    {
     "name": "stdout",
     "output_type": "stream",
     "text": [
      " >>> NOGOOD CONTRACT\n"
     ]
    },
    {
     "name": "stderr",
     "output_type": "stream",
     "text": [
      "Error 200, reqId 607: No security definition has been found for the request, contract: Option(symbol='AAPL', lastTradeDateOrContractMonth='20221118', strike=117.0, right='C', exchange='SMART')\n",
      "Error 200, reqId 608: No security definition has been found for the request, contract: Option(symbol='AAPL', lastTradeDateOrContractMonth='20221118', strike=117.5, right='C', exchange='SMART')\n"
     ]
    },
    {
     "name": "stdout",
     "output_type": "stream",
     "text": [
      " >>> NOGOOD CONTRACT\n",
      " >>> NOGOOD CONTRACT\n"
     ]
    },
    {
     "name": "stderr",
     "output_type": "stream",
     "text": [
      "Error 200, reqId 609: No security definition has been found for the request, contract: Option(symbol='AAPL', lastTradeDateOrContractMonth='20221118', strike=118.0, right='C', exchange='SMART')\n",
      "Error 200, reqId 610: No security definition has been found for the request, contract: Option(symbol='AAPL', lastTradeDateOrContractMonth='20221118', strike=119.0, right='C', exchange='SMART')\n"
     ]
    },
    {
     "name": "stdout",
     "output_type": "stream",
     "text": [
      " >>> NOGOOD CONTRACT\n",
      " >>> NOGOOD CONTRACT\n"
     ]
    },
    {
     "name": "stderr",
     "output_type": "stream",
     "text": [
      "Error 200, reqId 612: No security definition has been found for the request, contract: Option(symbol='AAPL', lastTradeDateOrContractMonth='20221118', strike=121.0, right='C', exchange='SMART')\n",
      "Error 200, reqId 613: No security definition has been found for the request, contract: Option(symbol='AAPL', lastTradeDateOrContractMonth='20221118', strike=122.0, right='C', exchange='SMART')\n",
      "Error 200, reqId 614: No security definition has been found for the request, contract: Option(symbol='AAPL', lastTradeDateOrContractMonth='20221118', strike=122.5, right='C', exchange='SMART')\n"
     ]
    },
    {
     "name": "stdout",
     "output_type": "stream",
     "text": [
      " >>> NOGOOD CONTRACT\n",
      " >>> NOGOOD CONTRACT\n",
      " >>> NOGOOD CONTRACT\n"
     ]
    },
    {
     "name": "stderr",
     "output_type": "stream",
     "text": [
      "Error 200, reqId 615: No security definition has been found for the request, contract: Option(symbol='AAPL', lastTradeDateOrContractMonth='20221118', strike=123.0, right='C', exchange='SMART')\n",
      "Error 200, reqId 616: No security definition has been found for the request, contract: Option(symbol='AAPL', lastTradeDateOrContractMonth='20221118', strike=124.0, right='C', exchange='SMART')\n"
     ]
    },
    {
     "name": "stdout",
     "output_type": "stream",
     "text": [
      " >>> NOGOOD CONTRACT\n",
      " >>> NOGOOD CONTRACT\n"
     ]
    },
    {
     "name": "stderr",
     "output_type": "stream",
     "text": [
      "Error 200, reqId 618: No security definition has been found for the request, contract: Option(symbol='AAPL', lastTradeDateOrContractMonth='20221118', strike=126.0, right='C', exchange='SMART')\n",
      "Error 200, reqId 619: No security definition has been found for the request, contract: Option(symbol='AAPL', lastTradeDateOrContractMonth='20221118', strike=127.0, right='C', exchange='SMART')\n",
      "Error 200, reqId 620: No security definition has been found for the request, contract: Option(symbol='AAPL', lastTradeDateOrContractMonth='20221118', strike=128.0, right='C', exchange='SMART')\n",
      "Error 200, reqId 621: No security definition has been found for the request, contract: Option(symbol='AAPL', lastTradeDateOrContractMonth='20221118', strike=129.0, right='C', exchange='SMART')\n"
     ]
    },
    {
     "name": "stdout",
     "output_type": "stream",
     "text": [
      " >>> NOGOOD CONTRACT\n",
      " >>> NOGOOD CONTRACT\n",
      " >>> NOGOOD CONTRACT\n",
      " >>> NOGOOD CONTRACT\n"
     ]
    },
    {
     "name": "stderr",
     "output_type": "stream",
     "text": [
      "Error 200, reqId 623: No security definition has been found for the request, contract: Option(symbol='AAPL', lastTradeDateOrContractMonth='20221118', strike=131.0, right='C', exchange='SMART')\n"
     ]
    },
    {
     "name": "stdout",
     "output_type": "stream",
     "text": [
      " >>> NOGOOD CONTRACT\n"
     ]
    },
    {
     "name": "stderr",
     "output_type": "stream",
     "text": [
      "Error 200, reqId 624: No security definition has been found for the request, contract: Option(symbol='AAPL', lastTradeDateOrContractMonth='20221118', strike=132.0, right='C', exchange='SMART')\n",
      "Error 200, reqId 625: No security definition has been found for the request, contract: Option(symbol='AAPL', lastTradeDateOrContractMonth='20221118', strike=133.0, right='C', exchange='SMART')\n",
      "Error 200, reqId 626: No security definition has been found for the request, contract: Option(symbol='AAPL', lastTradeDateOrContractMonth='20221118', strike=134.0, right='C', exchange='SMART')\n"
     ]
    },
    {
     "name": "stdout",
     "output_type": "stream",
     "text": [
      " >>> NOGOOD CONTRACT\n",
      " >>> NOGOOD CONTRACT\n",
      " >>> NOGOOD CONTRACT\n"
     ]
    },
    {
     "name": "stderr",
     "output_type": "stream",
     "text": [
      "Error 200, reqId 628: No security definition has been found for the request, contract: Option(symbol='AAPL', lastTradeDateOrContractMonth='20221118', strike=136.0, right='C', exchange='SMART')\n",
      "Error 200, reqId 629: No security definition has been found for the request, contract: Option(symbol='AAPL', lastTradeDateOrContractMonth='20221118', strike=137.0, right='C', exchange='SMART')\n",
      "Error 200, reqId 630: No security definition has been found for the request, contract: Option(symbol='AAPL', lastTradeDateOrContractMonth='20221118', strike=138.0, right='C', exchange='SMART')\n",
      "Error 200, reqId 631: No security definition has been found for the request, contract: Option(symbol='AAPL', lastTradeDateOrContractMonth='20221118', strike=139.0, right='C', exchange='SMART')\n"
     ]
    },
    {
     "name": "stdout",
     "output_type": "stream",
     "text": [
      " >>> NOGOOD CONTRACT\n",
      " >>> NOGOOD CONTRACT\n",
      " >>> NOGOOD CONTRACT\n",
      " >>> NOGOOD CONTRACT\n"
     ]
    },
    {
     "name": "stderr",
     "output_type": "stream",
     "text": [
      "Error 200, reqId 633: No security definition has been found for the request, contract: Option(symbol='AAPL', lastTradeDateOrContractMonth='20221118', strike=141.0, right='C', exchange='SMART')\n",
      "Error 200, reqId 634: No security definition has been found for the request, contract: Option(symbol='AAPL', lastTradeDateOrContractMonth='20221118', strike=142.0, right='C', exchange='SMART')\n",
      "Error 200, reqId 635: No security definition has been found for the request, contract: Option(symbol='AAPL', lastTradeDateOrContractMonth='20221118', strike=143.0, right='C', exchange='SMART')\n",
      "Error 200, reqId 636: No security definition has been found for the request, contract: Option(symbol='AAPL', lastTradeDateOrContractMonth='20221118', strike=144.0, right='C', exchange='SMART')\n"
     ]
    },
    {
     "name": "stdout",
     "output_type": "stream",
     "text": [
      " >>> NOGOOD CONTRACT\n",
      " >>> NOGOOD CONTRACT\n",
      " >>> NOGOOD CONTRACT\n",
      " >>> NOGOOD CONTRACT\n"
     ]
    },
    {
     "name": "stderr",
     "output_type": "stream",
     "text": [
      "Error 200, reqId 638: No security definition has been found for the request, contract: Option(symbol='AAPL', lastTradeDateOrContractMonth='20221118', strike=146.0, right='C', exchange='SMART')\n"
     ]
    },
    {
     "name": "stdout",
     "output_type": "stream",
     "text": [
      " >>> NOGOOD CONTRACT\n"
     ]
    },
    {
     "name": "stderr",
     "output_type": "stream",
     "text": [
      "Error 200, reqId 639: No security definition has been found for the request, contract: Option(symbol='AAPL', lastTradeDateOrContractMonth='20221118', strike=147.0, right='C', exchange='SMART')\n",
      "Error 200, reqId 640: No security definition has been found for the request, contract: Option(symbol='AAPL', lastTradeDateOrContractMonth='20221118', strike=148.0, right='C', exchange='SMART')\n",
      "Error 200, reqId 641: No security definition has been found for the request, contract: Option(symbol='AAPL', lastTradeDateOrContractMonth='20221118', strike=149.0, right='C', exchange='SMART')\n"
     ]
    },
    {
     "name": "stdout",
     "output_type": "stream",
     "text": [
      " >>> NOGOOD CONTRACT\n",
      " >>> NOGOOD CONTRACT\n",
      " >>> NOGOOD CONTRACT\n"
     ]
    },
    {
     "name": "stderr",
     "output_type": "stream",
     "text": [
      "Error 200, reqId 643: No security definition has been found for the request, contract: Option(symbol='AAPL', lastTradeDateOrContractMonth='20221118', strike=152.5, right='C', exchange='SMART')\n"
     ]
    },
    {
     "name": "stdout",
     "output_type": "stream",
     "text": [
      " >>> NOGOOD CONTRACT\n"
     ]
    },
    {
     "name": "stderr",
     "output_type": "stream",
     "text": [
      "Error 200, reqId 645: No security definition has been found for the request, contract: Option(symbol='AAPL', lastTradeDateOrContractMonth='20221118', strike=157.5, right='C', exchange='SMART')\n"
     ]
    },
    {
     "name": "stdout",
     "output_type": "stream",
     "text": [
      " >>> NOGOOD CONTRACT\n"
     ]
    },
    {
     "name": "stderr",
     "output_type": "stream",
     "text": [
      "Error 200, reqId 647: No security definition has been found for the request, contract: Option(symbol='AAPL', lastTradeDateOrContractMonth='20221118', strike=162.5, right='C', exchange='SMART')\n"
     ]
    },
    {
     "name": "stdout",
     "output_type": "stream",
     "text": [
      " >>> NOGOOD CONTRACT\n"
     ]
    },
    {
     "name": "stderr",
     "output_type": "stream",
     "text": [
      "Error 200, reqId 656: No security definition has been found for the request, contract: Option(symbol='AAPL', lastTradeDateOrContractMonth='20221118', strike=205.0, right='C', exchange='SMART')\n"
     ]
    },
    {
     "name": "stdout",
     "output_type": "stream",
     "text": [
      " >>> NOGOOD CONTRACT\n"
     ]
    },
    {
     "name": "stderr",
     "output_type": "stream",
     "text": [
      "Error 200, reqId 658: No security definition has been found for the request, contract: Option(symbol='AAPL', lastTradeDateOrContractMonth='20221118', strike=215.0, right='C', exchange='SMART')\n"
     ]
    },
    {
     "name": "stdout",
     "output_type": "stream",
     "text": [
      " >>> NOGOOD CONTRACT\n"
     ]
    },
    {
     "name": "stderr",
     "output_type": "stream",
     "text": [
      "Error 200, reqId 660: No security definition has been found for the request, contract: Option(symbol='AAPL', lastTradeDateOrContractMonth='20221118', strike=225.0, right='C', exchange='SMART')\n"
     ]
    },
    {
     "name": "stdout",
     "output_type": "stream",
     "text": [
      " >>> NOGOOD CONTRACT\n"
     ]
    },
    {
     "name": "stderr",
     "output_type": "stream",
     "text": [
      "Error 200, reqId 662: No security definition has been found for the request, contract: Option(symbol='AAPL', lastTradeDateOrContractMonth='20221118', strike=235.0, right='C', exchange='SMART')\n"
     ]
    },
    {
     "name": "stdout",
     "output_type": "stream",
     "text": [
      " >>> NOGOOD CONTRACT\n"
     ]
    },
    {
     "name": "stderr",
     "output_type": "stream",
     "text": [
      "Error 200, reqId 664: No security definition has been found for the request, contract: Option(symbol='AAPL', lastTradeDateOrContractMonth='20221118', strike=245.0, right='C', exchange='SMART')\n"
     ]
    },
    {
     "name": "stdout",
     "output_type": "stream",
     "text": [
      " >>> NOGOOD CONTRACT\n"
     ]
    },
    {
     "name": "stderr",
     "output_type": "stream",
     "text": [
      "Error 200, reqId 666: No security definition has been found for the request, contract: Option(symbol='AAPL', lastTradeDateOrContractMonth='20221118', strike=255.0, right='C', exchange='SMART')\n"
     ]
    },
    {
     "name": "stdout",
     "output_type": "stream",
     "text": [
      " >>> NOGOOD CONTRACT\n"
     ]
    },
    {
     "name": "stderr",
     "output_type": "stream",
     "text": [
      "Error 200, reqId 668: No security definition has been found for the request, contract: Option(symbol='AAPL', lastTradeDateOrContractMonth='20221118', strike=265.0, right='C', exchange='SMART')\n"
     ]
    },
    {
     "name": "stdout",
     "output_type": "stream",
     "text": [
      " >>> NOGOOD CONTRACT\n"
     ]
    },
    {
     "name": "stderr",
     "output_type": "stream",
     "text": [
      "Error 200, reqId 670: No security definition has been found for the request, contract: Option(symbol='AAPL', lastTradeDateOrContractMonth='20221118', strike=275.0, right='C', exchange='SMART')\n"
     ]
    },
    {
     "name": "stdout",
     "output_type": "stream",
     "text": [
      " >>> NOGOOD CONTRACT\n"
     ]
    },
    {
     "name": "stderr",
     "output_type": "stream",
     "text": [
      "Error 200, reqId 672: No security definition has been found for the request, contract: Option(symbol='AAPL', lastTradeDateOrContractMonth='20221118', strike=285.0, right='C', exchange='SMART')\n"
     ]
    },
    {
     "name": "stdout",
     "output_type": "stream",
     "text": [
      " >>> NOGOOD CONTRACT\n"
     ]
    },
    {
     "name": "stderr",
     "output_type": "stream",
     "text": [
      "Error 200, reqId 675: No security definition has been found for the request, contract: Option(symbol='AAPL', lastTradeDateOrContractMonth='20221118', strike=310.0, right='C', exchange='SMART')\n",
      "Error 200, reqId 676: No security definition has been found for the request, contract: Option(symbol='AAPL', lastTradeDateOrContractMonth='20221118', strike=320.0, right='C', exchange='SMART')\n"
     ]
    },
    {
     "name": "stdout",
     "output_type": "stream",
     "text": [
      " >>> NOGOOD CONTRACT\n",
      " >>> NOGOOD CONTRACT\n"
     ]
    }
   ],
   "source": [
    "from ib_insync import *\n",
    "import pandas as pd\n",
    "util.startLoop()\n",
    "from datetime import date\n",
    "from datetime import datetime\n",
    "\n",
    "def verify_daycount(dates):\n",
    "    ds = []\n",
    "    today = date.today()\n",
    "    today = datetime.strftime(today, \"%Y%m%d\")\n",
    "    today = datetime.strptime(today, \"%Y%m%d\")\n",
    "    for adate in dates:\n",
    "        date_obj = datetime.strptime(adate, \"%Y%m%d\")\n",
    "        days_diff = (date_obj - today).days\n",
    "        if (40 < days_diff < 50) or (90 < days_diff < 150):\n",
    "            ds.append(adate)\n",
    "    return ds\n",
    "    \n",
    "\n",
    "ib = IB()\n",
    "ib.connect('127.0.0.1', 7496, clientId = 3)\n",
    "\n",
    "tick = 'AAPL'\n",
    "print( \" >>> DEFINING STOCK \")\n",
    "stk = Stock(tick, 'SMART', 'USD')\n",
    "ib.qualifyContracts(stk)\n",
    "ib.reqMarketDataType(4) #wait a bit\n",
    "chains = ib.reqSecDefOptParams(stk.symbol, '', stk.secType, stk.conId)\n",
    "ds_chains = pd.DataFrame(chains)\n",
    "expirations = sorted(ds_chains['expirations'].iloc[0])\n",
    "expirations = verify_daycount(expirations) #convert expiration day to number of days left to expire\n",
    "strikes = ds_chains['strikes'].iloc[0]\n",
    "contractID = ds_chains['underlyingConId'].iloc[0]\n",
    "rights = ['P', 'C'] #easier for algirthm built # P = Put ; C = Call\n",
    "\n",
    "#organize all Option Contracts into data set\n",
    "combs = [(r, ex, s) for r in rights for ex in expirations for s in strikes]\n",
    "ds = pd.DataFrame()\n",
    "\n",
    "print ( \" >>> GETTING GREEKS AND OPTIONS INFO\")\n",
    "i = 0 \n",
    "for i in range(len(combs)):\n",
    "    exp = combs[i][1]\n",
    "    right = combs[i][0]\n",
    "    strike = combs[i][2]\n",
    "    try:\n",
    "        c = Option(tick, exp, strike, right, 'SMART') #define contract\n",
    "        details = ib.reqTickers(c)\n",
    "        greek = details[0].modelGreeks\n",
    "        delta, theta, gamma, vega, pvDiv, optPrice, impliedVol = greek.delta, greek.theta, greek.gamma, greek.vega, greek.pvDividend, greek.optPrice, greek.impliedVol\n",
    "        row = {\n",
    "            'Symbol': tick, 'Expiration': exp , 'Strike': strike, 'Right': right,\n",
    "            'Delta': delta, 'Theta': theta, 'Vega': vega, 'Gamma': gamma,\n",
    "            'impVol': impliedVol, 'optPrice': optPrice}\n",
    "        ds = pd.concat([ds, pd.DataFrame([row])], axis = 0, ignore_index = True)\n",
    "    except:\n",
    "        print ( \" >>> NOGOOD CONTRACT\")\n",
    "    i += 1\n",
    "\n",
    "#next: call all options during market time to get greek values\n",
    "ib.disconnect()\n"
   ]
  },
  {
   "cell_type": "code",
   "execution_count": 14,
   "metadata": {},
   "outputs": [
    {
     "name": "stderr",
     "output_type": "stream",
     "text": [
      "<ipython-input-14-9dcaf3a8bea2>:17: SettingWithCopyWarning: \n",
      "A value is trying to be set on a copy of a slice from a DataFrame.\n",
      "Try using .loc[row_indexer,col_indexer] = value instead\n",
      "\n",
      "See the caveats in the documentation: https://pandas.pydata.org/pandas-docs/stable/user_guide/indexing.html#returning-a-view-versus-a-copy\n",
      "  ds_c3['REGEL'] = ['C3'] * len(ds_c3)\n",
      "<ipython-input-14-9dcaf3a8bea2>:19: SettingWithCopyWarning: \n",
      "A value is trying to be set on a copy of a slice from a DataFrame.\n",
      "Try using .loc[row_indexer,col_indexer] = value instead\n",
      "\n",
      "See the caveats in the documentation: https://pandas.pydata.org/pandas-docs/stable/user_guide/indexing.html#returning-a-view-versus-a-copy\n",
      "  ds_c4['REGEL'] = ['C4'] * len(ds_c4)\n"
     ]
    },
    {
     "data": {
      "text/html": [
       "<div>\n",
       "<style scoped>\n",
       "    .dataframe tbody tr th:only-of-type {\n",
       "        vertical-align: middle;\n",
       "    }\n",
       "\n",
       "    .dataframe tbody tr th {\n",
       "        vertical-align: top;\n",
       "    }\n",
       "\n",
       "    .dataframe thead th {\n",
       "        text-align: right;\n",
       "    }\n",
       "</style>\n",
       "<table border=\"1\" class=\"dataframe\">\n",
       "  <thead>\n",
       "    <tr style=\"text-align: right;\">\n",
       "      <th></th>\n",
       "      <th>Symbol</th>\n",
       "      <th>Expiration</th>\n",
       "      <th>Strike</th>\n",
       "      <th>Right</th>\n",
       "      <th>Delta</th>\n",
       "      <th>Theta</th>\n",
       "      <th>Vega</th>\n",
       "      <th>Gamma</th>\n",
       "      <th>impVol</th>\n",
       "      <th>optPrice</th>\n",
       "      <th>daysdiff</th>\n",
       "      <th>REGEL</th>\n",
       "    </tr>\n",
       "  </thead>\n",
       "  <tbody>\n",
       "    <tr>\n",
       "      <th>0</th>\n",
       "      <td>AAPL</td>\n",
       "      <td>20220819</td>\n",
       "      <td>165.0</td>\n",
       "      <td>C</td>\n",
       "      <td>0.121609</td>\n",
       "      <td>-0.035385</td>\n",
       "      <td>0.095644</td>\n",
       "      <td>0.013831</td>\n",
       "      <td>0.292699</td>\n",
       "      <td>0.845357</td>\n",
       "      <td>43</td>\n",
       "      <td>C3</td>\n",
       "    </tr>\n",
       "    <tr>\n",
       "      <th>1</th>\n",
       "      <td>AAPL</td>\n",
       "      <td>20221021</td>\n",
       "      <td>165.0</td>\n",
       "      <td>C</td>\n",
       "      <td>0.25438</td>\n",
       "      <td>-0.03702</td>\n",
       "      <td>0.26874</td>\n",
       "      <td>0.014071</td>\n",
       "      <td>0.291041</td>\n",
       "      <td>3.242457</td>\n",
       "      <td>106</td>\n",
       "      <td>C4</td>\n",
       "    </tr>\n",
       "    <tr>\n",
       "      <th>2</th>\n",
       "      <td>AAPL</td>\n",
       "      <td>20221118</td>\n",
       "      <td>165.0</td>\n",
       "      <td>C</td>\n",
       "      <td>0.298258</td>\n",
       "      <td>-0.037184</td>\n",
       "      <td>0.301374</td>\n",
       "      <td>0.013104</td>\n",
       "      <td>0.300256</td>\n",
       "      <td>4.586741</td>\n",
       "      <td>134</td>\n",
       "      <td>C4</td>\n",
       "    </tr>\n",
       "    <tr>\n",
       "      <th>3</th>\n",
       "      <td>AAPL</td>\n",
       "      <td>20221118</td>\n",
       "      <td>170.0</td>\n",
       "      <td>C</td>\n",
       "      <td>0.237915</td>\n",
       "      <td>-0.032315</td>\n",
       "      <td>0.263726</td>\n",
       "      <td>0.011941</td>\n",
       "      <td>0.294060</td>\n",
       "      <td>3.346667</td>\n",
       "      <td>134</td>\n",
       "      <td>C4</td>\n",
       "    </tr>\n",
       "  </tbody>\n",
       "</table>\n",
       "</div>"
      ],
      "text/plain": [
       "  Symbol Expiration  Strike Right     Delta     Theta      Vega     Gamma  \\\n",
       "0   AAPL   20220819   165.0     C  0.121609 -0.035385  0.095644  0.013831   \n",
       "1   AAPL   20221021   165.0     C   0.25438  -0.03702   0.26874  0.014071   \n",
       "2   AAPL   20221118   165.0     C  0.298258 -0.037184  0.301374  0.013104   \n",
       "3   AAPL   20221118   170.0     C  0.237915 -0.032315  0.263726  0.011941   \n",
       "\n",
       "     impVol  optPrice  daysdiff REGEL  \n",
       "0  0.292699  0.845357        43    C3  \n",
       "1  0.291041  3.242457       106    C4  \n",
       "2  0.300256  4.586741       134    C4  \n",
       "3  0.294060  3.346667       134    C4  "
      ]
     },
     "execution_count": 14,
     "metadata": {},
     "output_type": "execute_result"
    }
   ],
   "source": [
    "def days_diff(adate):\n",
    "    today = date.today()\n",
    "    today = datetime.strftime(today, \"%Y%m%d\")\n",
    "    today = datetime.strptime(today, \"%Y%m%d\")\n",
    "    date_obj = datetime.strptime(adate, \"%Y%m%d\")\n",
    "    return (date_obj - today).days\n",
    "\n",
    "ds['daysdiff'] = list(map(days_diff, ds['Expiration'])) \n",
    "   \n",
    "\n",
    "# ds_p1 = ds[(0.1 <= ds['Delta'] <= 0.2) & (ds['Right'] == 'P') & (days_diff(ds['Expiration'], 90, 150))]\n",
    "ds_p1 = ds[(ds['Right'] == 'P') & (ds['daysdiff'] >= 90) & (ds['daysdiff'] <= 150) & (ds['Delta'] >= 0.1) & (ds['Delta'] <= 0.2)]\n",
    "ds_p1['REGEL'] = ['P1'] * len(ds_p1)\n",
    "ds_p2 = ds[(ds['Right'] == 'P') & (ds['daysdiff'] >= 40) & (ds['daysdiff'] <= 50) & (ds['Delta'] >= 0.1) & (ds['Delta'] <= 0.2)]\n",
    "ds_p2['REGEL'] = ['P2'] * len(ds_p2)\n",
    "ds_c3 = ds[(ds['Right'] == 'C') & (ds['daysdiff'] >= 40) & (ds['daysdiff'] <= 50) & (ds['Delta'] >= 0.1) & (ds['Delta'] <= 0.2)]\n",
    "ds_c3['REGEL'] = ['C3'] * len(ds_c3)\n",
    "ds_c4 = ds[(ds['Right'] == 'C') & (ds['daysdiff'] >= 90) & (ds['daysdiff'] <= 150) & (ds['Delta'] >= 0.2) & (ds['Delta'] <= 0.3)]\n",
    "ds_c4['REGEL'] = ['C4'] * len(ds_c4)\n",
    "\n",
    "main = pd.concat([ds_p1, ds_p2, ds_c3, ds_c4], ignore_index=True)\n",
    "main"
   ]
  },
  {
   "cell_type": "code",
   "execution_count": 15,
   "metadata": {},
   "outputs": [],
   "source": [
    "ib.disconnect()"
   ]
  }
 ],
 "metadata": {
  "kernelspec": {
   "display_name": "Python 3.9.13 64-bit",
   "language": "python",
   "name": "python3"
  },
  "language_info": {
   "codemirror_mode": {
    "name": "ipython",
    "version": 3
   },
   "file_extension": ".py",
   "mimetype": "text/x-python",
   "name": "python",
   "nbconvert_exporter": "python",
   "pygments_lexer": "ipython3",
   "version": "3.9.13"
  },
  "orig_nbformat": 4,
  "vscode": {
   "interpreter": {
    "hash": "b0fa6594d8f4cbf19f97940f81e996739fb7646882a419484c72d19e05852a7e"
   }
  }
 },
 "nbformat": 4,
 "nbformat_minor": 2
}
